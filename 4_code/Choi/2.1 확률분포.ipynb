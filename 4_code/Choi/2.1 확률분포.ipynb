{
 "cells": [
  {
   "cell_type": "markdown",
   "metadata": {},
   "source": [
    "# 확률변수\n",
    "\n",
    "## 2.1 확률변수\n",
    "\n",
    "- 수치적인 양에 관심있음? -> 표본공간 S에 정의된 사건들을 실수를 사용해 나타냄\n",
    "- 확률을 이용하여 수치적 양에 대한 수리적 모형 고려\n",
    "- 실험결과를 표현하는 수치적 양을 random variable이라고 함\n",
    "- random variable은 표본공간 S에서 정의되는 하나의 실함수\n",
    "- 즉 S가 정의역, X가 공역으로 정의되는 맵핑 함수라는 뜻"
   ]
  },
  {
   "cell_type": "markdown",
   "metadata": {},
   "source": [
    "**\\[정의 2.1\\]**  \n",
    "확률변수 X는 표본공간 S에 정의된 실함수(real-valued function)"
   ]
  },
  {
   "cell_type": "markdown",
   "metadata": {},
   "source": [
    "확률변수의 종류\n",
    " - 이산형: X의 범위가 유한(finite)이거나 가산무한(countably infinite)인 경우\n",
    " - 연속형: X의 범위가 uncountably infinite인 경우\n",
    " - 혼합형: e.g. X의 범위가 {1, 2, (5, 10)}\n",
    "\n",
    "확률분포\n",
    " - 확률변수의 값들과 그 값들이 나올 가능성은 미리 생각해볼 수 있으며, \n",
    " - 이를 해당 확률변수의 확률분포(probability distribution)라고 함 "
   ]
  },
  {
   "cell_type": "markdown",
   "metadata": {},
   "source": [
    "## 2.2 확률밀도함수 및 확률분포함수\n",
    "\n",
    "- Probability density function\n",
    "    - f(x)\n",
    "\n",
    "    + 이산형\n",
    "        - 이산형 확률변수 X의 확률밀도함수 f(x)는 P(X=x)=f(x)를 만족함\n",
    "        - probability mass function\n",
    "        \n",
    "    + 연속형\n",
    "        - 연속형 확률변수 X는 모든 실수 x에 대해 P(X=x)=0이므로\n",
    "        - 확률밀도함수가 값 하나가 아니라 구간에 확률을 부여함"
   ]
  },
  {
   "cell_type": "markdown",
   "metadata": {},
   "source": [
    "+ 확률밀도함수 f(x)의 조건\n",
    "    - 이산형\n",
    "    - 연속형\n",
    "     - $-\\infty<a<b<\\infty$일 때, $\\int_a^b f(x)dx=P(a\\leq X\\leq b)$\n",
    "     \n",
    "     \n",
    "\n",
    "+ 확률변수 X의 확률밀도함수가 f(x)일 때, 변수 X가 실직선상의 어떤 집합 A에 속할 확률\n",
    "\n",
    "$$\n",
    "P(X\\in A)=\n",
    "\\left\\{\\begin{matrix} \n",
    "\\begin{aligned}\n",
    "\\sum_{x_i\\in A}f(x_i) \\\\ \n",
    "\\int_A f(x)dx\n",
    "\\end{aligned}\n",
    "\\end{matrix}\\right.\n",
    "$$"
   ]
  },
  {
   "cell_type": "markdown",
   "metadata": {},
   "source": [
    "+ 확률분포함수(probability distribution function) F(x)\n",
    "    - 확률변수 $X$에 대한 확률분포함수는 $F(x)=P(X\\leq x)$로 정의된다.\n",
    "    - a.k.a. 누적분포함수(cumulative distribution function), 누적확률분포함수\n",
    "\n",
    "\n",
    "**\\[정리 2.1\\]**   \n",
    "함수 F(x)가 어떤 확률변수 X의 누적분포함수가 되는 필요충분조건\n",
    "\n",
    "**\\[정리 2.2\\]**   \n",
    "연속형확률변수 X의 확률밀도함수가 f(x)이고 확률분포함수가 F(x)이면, $f(x)=\\frac{d}{dx}F(x)$를 만족함"
   ]
  },
  {
   "source": [
    "## 2.3 결합분포\n",
    "\n",
    "### 2.3.1 결합 확률분포\n",
    "- 대부분 분석할만한 현상은 관찰값이 여러 개의 확률변수들 $X_1, X_2, …, X_k$로 이루어져 있다. 여러 개의 확률변수들을 한꺼번에 고려하는 경우 결합분포(joint distribution) 이론이 필요함\n",
    "\n",
    "+ 확률벡터(random vector)\n",
    "    - k개의 확률변수 $X_1, X_2,\\cdots , X_k$를 확률벡터 $X=(X_1, X_2,\\cdots , X_k)$로 표현\n",
    "\n",
    "**\\[정의 2.3\\]**  \n",
    "결합 확률밀도함수 (joint probability density function)  \n",
    "두 확률 변수 X와 Y의 결합 확률밀도함수 $f_{X,Y}(x,y)$는 X, Y가 \n",
    "- 이산형인 경우\n",
    "- 연속형인 경우 \n",
    "\n",
    "이때 결합 확률밀도함수 $f_{X,Y}(x,y)$가 만족해야하는 조건\n",
    "- 이산형\n",
    "- 연속형\n",
    "\n",
    "이 정의를 k(>2)개의 확률변수로 일반화 할 수도 있음"
   ],
   "cell_type": "markdown",
   "metadata": {}
  },
  {
   "source": [
    "\n",
    "**\\[정의 2.4\\]**  \n",
    "결합 확률분포함수 (joint probability distribution function)  \n",
    "확률변수 $X_1, X_2,\\cdots , X_k$의 결합 확률분포함수는 $F(x_1, x_2,\\cdots ,x_k)=P(X_1\\leq x_1, X_2\\leq x_2,\\cdots , X_k\\leq x_k)$로 정의됨\n",
    "\n",
    "이를 결합확률밀도함수를 사용하여 나타내면\n",
    "\n",
    "$$\n",
    "F(x_1, x_2, ..., x_k)=\n",
    "\\left\\{\\begin{matrix}\n",
    "\\begin{aligned}\n",
    "& \\sum_{t_1\\leq x_1}^{}... \\sum_{t_k\\leq x_k}^{} f(t_1, t_2, ..., t_k) \\\\ \n",
    "& \\int_{-\\infty}^{x_k}...\\int_{-\\infty}^{x_1} f(t_1, t_2, ..., t_k)dt_1 ... dt_k\n",
    "\\end{aligned}\n",
    "\\end{matrix}\\right.\n",
    "$$\n",
    "\n",
    "로 표현됨\n",
    "\n",
    "- 확률벡터가 연속형인 경우\n",
    "\n",
    "$$\n",
    "f(x_1,x_2,...,x_k)=\\frac{\\partial^k}{\\partial x_1 ...\\partial x_k}F(x_1, x_2, ..., x_k)\n",
    "$$\n",
    "\n",
    "관계가 성립\n",
    "\n",
    "**\\[정리 2.3\\]**  \n",
    "일변량 확률분포함수에 대한 \\[정리 2.1\\]을 이변량 확률벡터 $(X_1, X_2)$에 대해 일반화"
   ],
   "cell_type": "markdown",
   "metadata": {}
  },
  {
   "source": [
    "### 2.3.3 주변 확률밀도함수\n",
    "\n",
    "두 확률변수의 결합분포에 관심이 있더라도 때로는 각 변수만의 분포를 구할 필요가 있음\n",
    " $f_{X,Y} (x,y)$가 주어졌을 때, 두 변수 X, Y 각각의 확률밀도함수 $f_X (x)$와 $f_Y (y)$를 주변확률밀도함수(marginal probability density function)이라고 함\n",
    "\n",
    "**\\[정리 2.4\\]**  \n",
    "두 확률변수 X, Y의 결합 확률밀도함수가 $f_{X,Y} (x,y)$로 주어졌을 때, $f_{X} (x)$와 $f_{Y} (y)$는 아래와 같이 구해짐\n",
    "* 연속형\n",
    "* 이산형\n",
    "\n",
    "\\[정리 2.4\\]는 k(>2)개의 변수에 대해서 일반화 가능\n",
    "\n",
    "$$\n",
    "f_{X_i}(x_i)=\n",
    "\\left\\{\\begin{matrix}\n",
    "\\begin{aligned}\n",
    "& \\sum_{x_1}...\\sum_{x_{i-1}} \\sum_{x_{i+1}} \\cdots \\sum_{x_k} f(x_1,x_2,\\cdots ,x_k)\\\\ \n",
    "& \\int ...\\int f(x_1,x_2,\\cdots ,x_k)dx_1\\cdots dx_{i-1}dx_{i+1}\\cdots dx_k\n",
    "\\end{aligned}\n",
    "\\end{matrix}\\right. \n",
    "$$\n",
    "\n",
    "\n",
    "### 2.3.4 조건부 확률변수\n",
    "\n",
    "두 확률변수 X와 Y의 결합 확률밀도함수를 $f_{X,Y} (x,y)$라고 하자. $X=x$가 주어졌을 때 조건부 확률변수 Y를 $Y|X=x$로 표기하면 $Y|X=x$의 조건부 확률밀도함수(conditional probability density function) $f_{Y|X=x} (y|x)$는 다음과 같이 정의됨\n",
    "\n",
    "**\\[정의 2.5\\]**\n",
    "$X=x$가 주어졌을 때 $Y|X=x$의 조건부 확률밀도함수는\n",
    "\n",
    "$$\n",
    "f_{Y|X=x}(y|x)=\\frac{f_{X,Y}(x,y)}{f_X(x)} \n",
    "$$\n",
    "\n",
    "로 정의되며 조건부확률의 정의 $P(Y=y | X=x)=\\frac{P(X=x,Y=y)}{P(X=x)}$에 부합됨\n",
    "\n",
    "\\[정의 2.5\\]의 내용을 k(>2)개의 변수에 대해 일반화해보자. 확률변수 $X_1, X_2,..., X_k$의 결합 확률밀도함수가 $f(x_1,x_2,...,x_k)$이고 $X_1=x_1, X_2=x_2, ..., X_i=x_i (i<k)$이 주어졌을 때, (k-i)개의 확률변수 $X_{i+1}, X_{i+2},..., X_k$의 조건부 확률밀도함수는\n",
    "\n",
    "$$\n",
    "f(x_{i+1},\\cdots , x_k|x_1, x_2,\\cdots , x_i)=\\frac{f(x_1, x_2,\\cdots , x_k)}{f(x_1, x_2,\\cdots , x_i)}\n",
    "$$\n",
    "\n",
    "로 주어짐\n",
    "\n",
    "\n",
    "### 2.3.5 독립확률변수\n",
    "\n",
    "1장에서 사건들 사이의 독립에 대한 개념을 다뤘는데, 이로부터 확률변수들 간의 독립을 아래와 같이 정의할 수 있음\n",
    "\n",
    "**\\[정의 2.6\\]**  \n",
    "두 확률변수 X와 Y는 임의의 실구간 A와 B에 대하여 \n",
    "\n",
    "$$\n",
    "P(X\\in A, Y\\in B)=P(X\\in A)\\cdot P(Y\\in B)\n",
    "$$\n",
    "\n",
    "가 성립할 때 서로 독립(independent)이라고 함\n",
    "\n",
    "\n",
    "**\\[정리 2.5\\]**  \n",
    "두 확률변수 X와 Y가 서로 독립일 필요충분조건은 \n",
    "\n",
    "$$\n",
    "f_{X,Y}(x,y)=f_X(x)\\cdot f_Y(y)\n",
    "$$\n",
    "\n",
    "두 확률변수가 서로 독립일 필요충분조건은 결합 확률밀도함수가 주변 확률밀도함수들의 곱의 꼴로 표현되는 것\n",
    "\n",
    "이 내용을 k(>2)개의 변수에 대해 확장하면, 확률변수 $X_1, X_2, \\cdots , X_k$가 서로 독립일 필요충분조건은 이들의 결합 확률밀도함수가 k개의 주변 확률밀도함수의 곱과 같다는 것\n",
    "\n",
    "$$\n",
    "f(x_1, x_2, \\cdots , x_n)=f(x_1)f(x_2)\\cdots f(x_n)\n",
    "$$\n",
    "\n"
   ],
   "cell_type": "markdown",
   "metadata": {}
  },
  {
   "source": [
    "## 2.4 기대값\n",
    "\n",
    "- 확률\\*\\*함수는 확률변수의 전체적인 성격을 설명함 \n",
    "- 하나의 수치로 확률분포의 성질을 요약하기도 함 \n",
    "- 기대값(expectation)은 이러한 수치들 중 하나이며 평균(mean)이라고도 한다. \n",
    "\n",
    "**\\[정의 2.7\\]**  \n",
    "확률변수 X의 확률밀도함수가 f(x)일 때 X의 기대값은 \n",
    "\n",
    "$$\n",
    "E(X)=\\left\\{\\begin{matrix}\n",
    "\\begin{aligned}\n",
    "\\sum_{x_i} x_if(x_i) \\quad        & \\text{X가 이산형인 경우} \\\\ \n",
    "\\int_{-\\infty}^{\\infty} xf(x)dx \\quad  & \\text{X가 연속형인 경우}\n",
    "\\end{aligned}\n",
    "\\end{matrix}\\right.\n",
    "$$\n",
    "\n",
    "- 단, $E(|X|)<\\infty$이여야 함 \n",
    "- 위 식을 자세히 보면 확률변수 X의 기대값은 X가 가지는 값에 해당하는 확률가중을 사용한 가중평균이라는 것을 알 수 있음\n",
    "\n",
    "확률변수 $X$의 함수인 $g(X)$의 기대값 $E[g(X)]$는 변수 $Y=g(y)$의 확률밀도함수를 $f_Y(y)$라 할 때\n",
    "\n",
    "$$\n",
    "E[g(X)]=E(Y)=\\left\\{\\begin{matrix}\n",
    "\\begin{aligned}\n",
    "\\sum_{y_i} y_if_Y(y_i) \\quad        & \\text{이산형인 경우} \\\\ \n",
    "\\int_{-\\infty}^{\\infty} yf_Y(y)dy \\quad  & \\text{연속형인 경우} \n",
    "\\end{aligned}\n",
    "\\end{matrix}\\right.\n",
    "$$\n",
    "\n",
    "가 성립한다. \n",
    "\n",
    "X의 확률밀도함수를 알고 있다면, Y의 확률밀도함수를 따로 구할 필요 없이 아래와 같이 $E(g(X))$를 구할 수 있음\n",
    "\n",
    "$$\n",
    "E[g(X)]=E(Y)=\\left\\{\\begin{matrix}\n",
    "\\begin{aligned}\n",
    "\\sum_{x_i} g(x_i) f_X(x_i) \\quad        & \\text{이산형인 경우} \\\\ \n",
    "\\int_{-\\infty}^{\\infty} g(x) f_X(x)dx \\quad  & \\text{연속형인 경우} \n",
    "\\end{aligned}\n",
    "\\end{matrix}\\right.\n",
    "$$\n",
    "\n",
    "또한 이 값은 $f_Y(y)$를 구할 수 있다면 $\\int_{-\\infty}^{\\infty} y f_Y(y)dy$의 값과 같게 됨"
   ],
   "cell_type": "markdown",
   "metadata": {}
  },
  {
   "source": [
    "### 2.4.1 기대값과 분산의 성질\n",
    "\n",
    "**\\[정리 2.6\\]**  \n",
    "확률변수 X의 함수에 대한 기대값은, 상수 a, b, c에 대하여\n",
    "\n",
    "$$\n",
    "\\begin{aligned}\n",
    "& E(c)=c \\\\\n",
    "& E(aX+b)=aE(X)+b\n",
    "\\end{aligned}\n",
    "$$\n",
    "\n",
    "를 만족함. 또한 두 개 이상의 확률변수에 대한 기대값을 성질로는 다음과 같은 것들이 있음\n",
    "\n",
    "$$\n",
    "\\begin{aligned}\n",
    "& E(aX+bY)=aE(X)+bE(Y) \\\\\n",
    "& E(a_1X_1+a_2X_2+\\cdots +a_nX_n)=a_1E(X_1)+a_2E(X_2)+\\cdots +a_nE(X_n)\n",
    "\\end{aligned}\n",
    "$$\n",
    "\n",
    "**\\[정리 2.7\\]**  \n",
    "두 확률변수 X와 Y가 서로 독립이면\n",
    "$$\n",
    "E(XY)=E(X)\\cdot E(Y)\n",
    "$$\n",
    "\n",
    "가 성립함\n",
    "\n",
    "X와 Y가 독립이면 그들의 함수인 g(X)와 h(Y)도 서로 독립이므로 $E[g(X)h(Y)]=E[g(X)]\\cdot E[h(Y)]$ \n",
    "\n",
    "#### 분산과 표준편차\n",
    "\n",
    "분산(variance): 확률변수 X의 **변동**을 나타내는 측도로서 X가 E(X)로부터 흩어져 있는 정도를 $g(X)=[X-E(X)]^2$에 대한 기대값으로 측정함\n",
    "\n",
    "**\\[정의 2.8\\]**  \n",
    "분산과 표준편차를 아래와 같이 정의\n",
    "\n",
    "$$\n",
    "Var(X)=E[X-E(X)]^2 \\\\\n",
    "\\sigma_X = \\sqrt{Var(X)}\n",
    "$$\n",
    "\n",
    "확률변수 X의 분산은 $E(X)$와 $E(X)^2$을 사용해 아래와 같이 나타낼 수도 있음\n",
    "\n",
    "$$\n",
    "Var(X) = E(X^2)-[E(X)]^2\n",
    "$$\n",
    "\n",
    "\n",
    "**\\[정리 2.8\\]**  \n",
    " 1. Y=aX+b 이면\n",
    "$$\n",
    "Var(Y) = a^2 Var(X)\n",
    "$$\n",
    "가 성립함 \n",
    "\n",
    "\n",
    " 2. $X_1, X_2, \\cdots , X_n$이 서로 독립이면 \n",
    "$$\n",
    "Var\\left (\\sum_{i=1}^{n} X_i \\right ) = \\sum_{i=1}^{n} Var(X_i)\n",
    "$$\n",
    "가 성립함 \n",
    "\n",
    "#### 공분산\n",
    "\n",
    "- 하나의 확률변수가 흩어진 정도를 측정하는 측도로 분산을 사용했다면, 두 확률변수 X와 Y 사이의 흩어진 관계를 측정하는 측도로서 covariance를 사용함 \n",
    "- 공분산은 X와 Y가 선형적으로 함께 움직이는 정도를 표현해주는 측도라고 생각할 수 있음\n",
    "\n",
    "**\\[정의 2.9\\]**  \n",
    "두 확률변수 X, Y의 공분산은\n",
    "\n",
    "$$\n",
    "\\begin{aligned}\n",
    "Cov(X, Y) & = E[(X-E(X))(Y-E(Y))] \\\\\n",
    " & = E(XY)-E(X)E(Y)\n",
    "\\end{aligned}\n",
    "$$\n",
    "\n",
    "로 정의된다.\n",
    "\n",
    " 1. $Cov(X,X) = Var(X)$  \n",
    " 2. X, Y가 서로 독립이면 $Cov(X,Y) = 0$\n",
    " \n",
    "**\\[정리 2.9\\]**  \n",
    "$$\n",
    "Cov(aX+b, cY+d) = ac\\ Cov(X,Y)\n",
    "$$\n",
    "\n",
    "**\\[정리 2.10\\]**  \n",
    "확률변수 $X_1, X_2, \\cdots , X_n$이 있을 때, (확률변수들이 독립일 경우에 대한 정리 2.8의 2번의 일반화)\n",
    "\n",
    "$$\n",
    "Var\\left (\\sum_{i=1}^{n} X_i \\right ) = \\sum_{i=1}^{n} Var(X_i) + 2\\sum_{\\ \\ \\ j} \\sum_{<\\ \\ k\\ \\ \\ } Cov(X_j, X_k)\n",
    "$$\n",
    "\n",
    "가 성립함\n",
    "\n"
   ],
   "cell_type": "markdown",
   "metadata": {}
  },
  {
   "cell_type": "markdown",
   "metadata": {},
   "source": [
    "## 연습문제"
   ]
  },
  {
   "cell_type": "markdown",
   "metadata": {},
   "source": [
    "#### 2-01"
   ]
  },
  {
   "cell_type": "code",
   "execution_count": 1,
   "metadata": {},
   "outputs": [
    {
     "data": {
      "text/plain": [
       "0.16666666666666666"
      ]
     },
     "execution_count": 1,
     "metadata": {},
     "output_type": "execute_result"
    }
   ],
   "source": [
    "1/6"
   ]
  },
  {
   "cell_type": "code",
   "execution_count": 2,
   "metadata": {},
   "outputs": [],
   "source": [
    "p = 1/6"
   ]
  },
  {
   "cell_type": "code",
   "execution_count": 19,
   "metadata": {},
   "outputs": [],
   "source": [
    "a = (5/6)**5\n",
    "b = 5*p*((1-p)**4)\n",
    "c = 5*(p**2)*((1-p)**3)\n",
    "d = 5*(p**3)*((1-p)**2)\n",
    "e = 5*(p**4)*(1-p)\n",
    "_p = (1/6)**5"
   ]
  },
  {
   "cell_type": "code",
   "execution_count": 20,
   "metadata": {},
   "outputs": [
    {
     "data": {
      "text/plain": [
       "0.9035493827160495"
      ]
     },
     "execution_count": 20,
     "metadata": {},
     "output_type": "execute_result"
    }
   ],
   "source": [
    "a+b+c+d+e+_p"
   ]
  },
  {
   "cell_type": "code",
   "execution_count": 12,
   "metadata": {},
   "outputs": [
    {
     "data": {
      "text/plain": [
       "0.9035493827160495"
      ]
     },
     "execution_count": 12,
     "metadata": {},
     "output_type": "execute_result"
    }
   ],
   "source": [
    "a = (5/6)**5\n",
    "b = 5*(1/6)*((5/6)**4)\n",
    "c = 5*((1/6)**2)*((5/6)**3)\n",
    "d = 5*((1/6)**3)*((5/6)**2)\n",
    "e = 5*((1/6)**4)*(5/6)\n",
    "_p = (1/6)**5\n",
    "\n",
    "a+b+c+d+e+_p"
   ]
  },
  {
   "cell_type": "markdown",
   "metadata": {},
   "source": [
    "#### 2-02"
   ]
  },
  {
   "cell_type": "markdown",
   "metadata": {},
   "source": [
    "#### 2-03"
   ]
  }
 ],
 "metadata": {
  "kernelspec": {
   "name": "python3",
   "display_name": "Python 3.7.3 64-bit",
   "metadata": {
    "interpreter": {
     "hash": "31f2aee4e71d21fbe5cf8b01ff0e069b9275f58929596ceb00d14d90e3e16cd6"
    }
   }
  },
  "language_info": {
   "codemirror_mode": {
    "name": "ipython",
    "version": 3
   },
   "file_extension": ".py",
   "mimetype": "text/x-python",
   "name": "python",
   "nbconvert_exporter": "python",
   "pygments_lexer": "ipython3",
   "version": "3.7.3-final"
  }
 },
 "nbformat": 4,
 "nbformat_minor": 4
}