{
 "cells": [
  {
   "cell_type": "markdown",
   "metadata": {},
   "source": [
    "### 필요 모듈 및 데이터 로드"
   ]
  },
  {
   "cell_type": "code",
   "execution_count": 2,
   "metadata": {},
   "outputs": [],
   "source": [
    "import sys\n",
    "import os\n",
    "\n",
    "import numpy as np\n",
    "import pandas as pd\n",
    "\n",
    "import matplotlib.pyplot as plt\n",
    "import seaborn as sns\n",
    "import itertools"
   ]
  },
  {
   "cell_type": "code",
   "execution_count": 2,
   "metadata": {},
   "outputs": [],
   "source": [
    "dacon_data_path = os.path.join(\"./data/dacon_data\")\n",
    "sys.path.insert(0, dacon_data_path)"
   ]
  },
  {
   "cell_type": "code",
   "execution_count": 4,
   "metadata": {},
   "outputs": [],
   "source": [
    "case = pd.read_csv(\"./Case.csv\")\n",
    "p_info = pd.read_csv(\"./PatientInfo.csv\")\n",
    "p_route = pd.read_csv(\"./PatientRoute.csv\")\n",
    "pol = pd.read_csv(\"./Policy.csv\")\n",
    "reg = pd.read_csv(\"./Region.csv\")\n",
    "st = pd.read_csv(\"./SearchTrend.csv\")\n",
    "sf = pd.read_csv(\"./SeoulFloating.csv\")\n",
    "ta = pd.read_csv(\"./TimeAge.csv\")\n",
    "time = pd.read_csv(\"./Time.csv\")\n",
    "tg = pd.read_csv(\"./TimeGender.csv\")\n",
    "tp = pd.read_csv(\"./TimeProvince.csv\")\n",
    "wt = pd.read_csv(\"./Weather.csv\")"
   ]
  },
  {
   "cell_type": "markdown",
   "metadata": {},
   "source": [
    "# utils"
   ]
  },
  {
   "cell_type": "code",
   "execution_count": 5,
   "metadata": {},
   "outputs": [],
   "source": [
    "def uniform_pdf(x):\n",
    "    \"\"\" Uniform Distribution(균등 분포) 확률 밀도 함수 \"\"\"\n",
    "    return 1 if 0 <= x < 1 else 0"
   ]
  },
  {
   "cell_type": "code",
   "execution_count": 6,
   "metadata": {},
   "outputs": [],
   "source": [
    "def uniform_cdf(x):\n",
    "    \"\"\" 균등 분포 누적 분포 함수 \"\"\"\n",
    "    if x < 0:\n",
    "        return 0\n",
    "    elif 0 <= x < 1:\n",
    "        return x\n",
    "    else:\n",
    "        return 1"
   ]
  },
  {
   "cell_type": "code",
   "execution_count": 7,
   "metadata": {},
   "outputs": [],
   "source": [
    "def normal_pdf(x, mu=0.0, sigma=1.0):\n",
    "    \"\"\"평균이 mu이고, 표준편차가 sigma인 정규 분포(Normal Distribution)\n",
    "    확률 밀도 함수\n",
    "    \"\"\"\n",
    "    return math.exp(-(x - mu) ** 2 / (2 * sigma ** 2)) / (SQRT_TWO_PI * sigma)"
   ]
  },
  {
   "cell_type": "code",
   "execution_count": 8,
   "metadata": {},
   "outputs": [],
   "source": [
    "def normal_cdf(x, mu=0.0, sigma=1.0):\n",
    "    \"\"\"평균이 mu이고, 표준편차가 sigma인\n",
    "    정규 분포(Normal Distribution)의 누적 분포 함수(Cumulative Distribution Function)\n",
    "    math.erf() 함수(error function)를 이용해서 구현\"\"\"\n",
    "    return (1 + math.erf((x - mu) / (math.sqrt(2) * sigma))) / 2"
   ]
  },
  {
   "cell_type": "code",
   "execution_count": 9,
   "metadata": {},
   "outputs": [],
   "source": [
    "def inverse_normal_cdf(p, mu=0.0, sigma=1.0, tolerance=0.00001):\n",
    "    \"\"\"누적 확률 p를 알고 있을 때 정규 분포 확률 변수 x = ?\"\"\"\n",
    "    # 표준 정규 분포가 아니라면 표준 정규 분포로 변환\n",
    "    if mu != 0.0 or sigma != 1.0:\n",
    "        return mu + sigma * inverse_normal_cdf(p, tolerance=tolerance)\n",
    "    low_z = -10.0 # 하한(lower bound)\n",
    "    high_z = 10.0 # 상한(upper bound)\n",
    "    while high_z - low_z > tolerance:\n",
    "        mid_z = (low_z + high_z) / 2.0 # 중간 값\n",
    "        mid_p = normal_cdf(mid_z) # 중간 값에서의 누적 확률\n",
    "        if mid_p < p:\n",
    "            low_z = mid_z\n",
    "        else:\n",
    "            high_z = mid_z\n",
    "    return mid_z"
   ]
  },
  {
   "cell_type": "markdown",
   "metadata": {},
   "source": [
    "### data EDA"
   ]
  },
  {
   "cell_type": "code",
   "execution_count": 97,
   "metadata": {},
   "outputs": [],
   "source": [
    "data_list = [case, p_info, p_route, pol, reg, st, sf, ta, time, tg, tp, wt]\n",
    "data_str_list = ['case', 'p_info', 'p_route', 'pol', 'reg', 'st', 'sf', 'ta', 'time', 'tg', 'tp', 'wt']"
   ]
  },
  {
   "cell_type": "code",
   "execution_count": 99,
   "metadata": {},
   "outputs": [
    {
     "name": "stdout",
     "output_type": "stream",
     "text": [
      "1 _ case :  (112, 8)\n",
      "columns :  ['case_id', 'province', 'city', 'group', 'infection_case', 'confirmed', 'latitude', 'longitude']\n",
      "\n",
      "2 _ p_info :  (3388, 18)\n",
      "columns :  ['patient_id', 'global_num', 'sex', 'birth_year', 'age', 'country', 'province', 'city', 'disease', 'infection_case', 'infection_order', 'infected_by', 'contact_number', 'symptom_onset_date', 'confirmed_date', 'released_date', 'deceased_date', 'state']\n",
      "\n",
      "3 _ p_route :  (6714, 8)\n",
      "columns :  ['patient_id', 'global_num', 'date', 'province', 'city', 'type', 'latitude', 'longitude']\n",
      "\n",
      "4 _ pol :  (48, 7)\n",
      "columns :  ['policy_id', 'country', 'type', 'gov_policy', 'detail', 'start_date', 'end_date']\n",
      "\n",
      "5 _ reg :  (244, 12)\n",
      "columns :  ['code', 'province', 'city', 'latitude', 'longitude', 'elementary_school_count', 'kindergarten_count', 'university_count', 'academy_ratio', 'elderly_population_ratio', 'elderly_alone_ratio', 'nursing_home_count']\n",
      "\n",
      "6 _ st :  (1581, 5)\n",
      "columns :  ['date', 'cold', 'flu', 'pneumonia', 'coronavirus']\n",
      "\n",
      "7 _ sf :  (432000, 7)\n",
      "columns :  ['date', 'hour', 'birth_year', 'sex', 'province', 'city', 'fp_num']\n",
      "\n",
      "8 _ ta :  (540, 5)\n",
      "columns :  ['date', 'time', 'age', 'confirmed', 'deceased']\n",
      "\n",
      "9 _ time :  (102, 7)\n",
      "columns :  ['date', 'time', 'test', 'negative', 'confirmed', 'released', 'deceased']\n",
      "\n",
      "10 _ tg :  (120, 5)\n",
      "columns :  ['date', 'time', 'sex', 'confirmed', 'deceased']\n",
      "\n",
      "11 _ tp :  (1734, 6)\n",
      "columns :  ['date', 'time', 'province', 'confirmed', 'released', 'deceased']\n",
      "\n",
      "12 _ wt :  (25295, 10)\n",
      "columns :  ['code', 'province', 'date', 'avg_temp', 'min_temp', 'max_temp', 'precipitation', 'max_wind_speed', 'most_wind_direction', 'avg_relative_humidity']\n",
      "\n"
     ]
    }
   ],
   "source": [
    "def data_shape_print(d_list, d_str_list):\n",
    "    \n",
    "    col_list = []\n",
    "    \n",
    "    for d_idx in range(len(d_list)):\n",
    "        print(str(d_idx+1),'_',d_str_list[d_idx], ': ', d_list[d_idx].shape)\n",
    "        print('columns : ', list(d_list[d_idx].columns))\n",
    "        print()\n",
    "        for c_idx in list(d_list[d_idx].columns):\n",
    "            col_list.append(c_idx)\n",
    "        \n",
    "    return col_list\n",
    "    \n",
    "col_list = data_shape_print(data_list, data_str_list)"
   ]
  },
  {
   "cell_type": "code",
   "execution_count": 100,
   "metadata": {},
   "outputs": [
    {
     "data": {
      "text/plain": [
       "{'case_id': 1,\n",
       " 'group': 1,\n",
       " 'disease': 1,\n",
       " 'infection_order': 1,\n",
       " 'infected_by': 1,\n",
       " 'contact_number': 1,\n",
       " 'symptom_onset_date': 1,\n",
       " 'confirmed_date': 1,\n",
       " 'released_date': 1,\n",
       " 'deceased_date': 1,\n",
       " 'state': 1,\n",
       " 'policy_id': 1,\n",
       " 'gov_policy': 1,\n",
       " 'detail': 1,\n",
       " 'start_date': 1,\n",
       " 'end_date': 1,\n",
       " 'elementary_school_count': 1,\n",
       " 'kindergarten_count': 1,\n",
       " 'university_count': 1,\n",
       " 'academy_ratio': 1,\n",
       " 'elderly_population_ratio': 1,\n",
       " 'elderly_alone_ratio': 1,\n",
       " 'nursing_home_count': 1,\n",
       " 'cold': 1,\n",
       " 'flu': 1,\n",
       " 'pneumonia': 1,\n",
       " 'coronavirus': 1,\n",
       " 'hour': 1,\n",
       " 'fp_num': 1,\n",
       " 'test': 1,\n",
       " 'negative': 1,\n",
       " 'avg_temp': 1,\n",
       " 'min_temp': 1,\n",
       " 'max_temp': 1,\n",
       " 'precipitation': 1,\n",
       " 'max_wind_speed': 1,\n",
       " 'most_wind_direction': 1,\n",
       " 'avg_relative_humidity': 1,\n",
       " 'infection_case': 2,\n",
       " 'patient_id': 2,\n",
       " 'global_num': 2,\n",
       " 'birth_year': 2,\n",
       " 'age': 2,\n",
       " 'country': 2,\n",
       " 'type': 2,\n",
       " 'code': 2,\n",
       " 'released': 2,\n",
       " 'latitude': 3,\n",
       " 'longitude': 3,\n",
       " 'sex': 3,\n",
       " 'time': 4,\n",
       " 'deceased': 4,\n",
       " 'city': 5,\n",
       " 'confirmed': 5,\n",
       " 'province': 7,\n",
       " 'date': 8}"
      ]
     },
     "execution_count": 100,
     "metadata": {},
     "output_type": "execute_result"
    }
   ],
   "source": [
    "from collections import Counter\n",
    "\n",
    "col_d = dict(sorted(dict(Counter(col_list)).items(), key=lambda item: item[1]))\n",
    "col_d"
   ]
  },
  {
   "cell_type": "markdown",
   "metadata": {},
   "source": [
    "### 사용할 데이터 추출"
   ]
  },
  {
   "cell_type": "markdown",
   "metadata": {},
   "source": [
    "- 그룹화 할 수 있는 데이터(mapper?)\n",
    "    + date\n",
    "    + location(city, province)    "
   ]
  },
  {
   "cell_type": "code",
   "execution_count": 106,
   "metadata": {},
   "outputs": [
    {
     "name": "stdout",
     "output_type": "stream",
     "text": [
      "percentge : 0.53%\n"
     ]
    }
   ],
   "source": [
    "# 확진자 중 기저질환 보유 여부\n",
    "_per = float(list(p_info.disease.value_counts())[0]/len(p_info))\n",
    "print(\"percentge : %s%%\"%round(_per*100,2))"
   ]
  },
  {
   "cell_type": "code",
   "execution_count": 107,
   "metadata": {},
   "outputs": [],
   "source": [
    "# util\n",
    "def group_cals_func(df, group_col, target_col, agg):\n",
    "    \n",
    "    grouped = df.groupby(group_col)\n",
    "    \n",
    "    if agg == 'mean':\n",
    "        return grouped[target_col].mean().sort_values(ascending=False)\n",
    "    elif agg == 'sum':\n",
    "        return grouped[target_col].sum().sort_values(ascending=False)"
   ]
  },
  {
   "cell_type": "code",
   "execution_count": 108,
   "metadata": {
    "scrolled": true
   },
   "outputs": [
    {
     "data": {
      "text/plain": [
       "infection_case\n",
       "Shincheonji Church                       347.466667\n",
       "Second Mi-Ju Hospital                    196.000000\n",
       "Hansarang Convalescent Hospital          128.000000\n",
       "gym facility in Cheonan                  103.000000\n",
       "Daesil Convalescent Hospital             100.000000\n",
       "contact with patient                      78.125000\n",
       "River of Grace Community Church           72.000000\n",
       "Bonghwa Pureun Nursing Home               68.000000\n",
       "Gyeongsan Seorin Nursing Home             66.000000\n",
       "etc                                       60.588235\n",
       "Guro-gu Call Center                       55.333333\n",
       "Pilgrimage to Israel                      49.000000\n",
       "overseas inflow                           45.705882\n",
       "Cheongdo Daenam Hospital                  41.000000\n",
       "Yechun-gun                                40.000000\n",
       "Fatima Hospital                           37.000000\n",
       "Milal Shelter                             36.000000\n",
       "Ministry of Oceans and Fisheries          30.000000\n",
       "Uijeongbu St. Mary’s Hospital             30.000000\n",
       "Bundang Jesaeng Hospital                  22.000000\n",
       "Manmin Central Church                     21.500000\n",
       "Onchun Church                             20.500000\n",
       "Dongan Church                             20.000000\n",
       "Gyeongsan Jeil Silver Town                17.000000\n",
       "Gyeongsan Cham Joeun Community Center     16.000000\n",
       "Eunpyeong St. Mary's Hospital             14.000000\n",
       "Seongdong-gu APT                          13.000000\n",
       "Goesan-gun Jangyeon-myeon                 11.000000\n",
       "Geochang Church                           10.000000\n",
       "Wings Tower                               10.000000\n",
       "Jongno Community Center                   10.000000\n",
       "Suwon Saeng Myeong Saem Church            10.000000\n",
       "Geochang-gun Woongyang-myeon               8.000000\n",
       "gym facility in Sejong                     8.000000\n",
       "Hanmaeum Changwon Hospital                 7.000000\n",
       "Jung-gu Fashion Company                    7.000000\n",
       "Changnyeong Coin Karaoke                   7.000000\n",
       "Haeundae-gu Catholic Church                6.000000\n",
       "Seosan-si Laboratory                       5.500000\n",
       "Suyeong-gu Kindergarten                    5.000000\n",
       "Jin-gu Academy                             4.000000\n",
       "Wonju-si Apartments                        3.000000\n",
       "Korea Forest Engineer Institute            3.000000\n",
       "Name: confirmed, dtype: float64"
      ]
     },
     "execution_count": 108,
     "metadata": {},
     "output_type": "execute_result"
    }
   ],
   "source": [
    "# 감염 케이스 별 확진자 수 \n",
    "group_cals_func(case, 'infection_case', 'confirmed', 'mean')"
   ]
  },
  {
   "cell_type": "code",
   "execution_count": 109,
   "metadata": {},
   "outputs": [
    {
     "data": {
      "text/plain": [
       "{10000: 'Seoul',\n",
       " 11000: 'Busan',\n",
       " 12000: 'Daegu',\n",
       " 13000: 'Gwangju',\n",
       " 14000: 'Incheon',\n",
       " 15000: 'Daejeon',\n",
       " 16000: 'Ulsan',\n",
       " 20000: 'Gyeonggi-do',\n",
       " 30000: 'Gangwon-do',\n",
       " 40000: 'Chunghceongbuk-do',\n",
       " 41000: 'Chungcheongnam-do',\n",
       " 50000: 'Jeollabuk-do',\n",
       " 51000: 'Jeollanam-do',\n",
       " 60000: 'Gyeongsangbuk-do',\n",
       " 61000: 'Gyeongsangnam-do',\n",
       " 70000: 'Jeju-do'}"
      ]
     },
     "execution_count": 109,
     "metadata": {},
     "output_type": "execute_result"
    }
   ],
   "source": [
    "province_code_mapper = dict(zip(wt.code, wt.province))\n",
    "province_code_mapper"
   ]
  },
  {
   "cell_type": "markdown",
   "metadata": {},
   "source": [
    "### 감염 케이스 중 집단 감염일 확률?"
   ]
  },
  {
   "cell_type": "code",
   "execution_count": 111,
   "metadata": {},
   "outputs": [
    {
     "name": "stdout",
     "output_type": "stream",
     "text": [
      "percentage : 55.357%\n"
     ]
    }
   ],
   "source": [
    "_per = len(case[case['group'] == True])/len(case)*100\n",
    "print(\"percentage : %s%%\"%round(_per,3))"
   ]
  },
  {
   "cell_type": "markdown",
   "metadata": {},
   "source": [
    "### contact number 따른 확률변수?"
   ]
  },
  {
   "cell_type": "markdown",
   "metadata": {},
   "source": [
    "- 데이터를 수집한다.\n",
    "\n",
    "- 수집한 데이터가 어떤 확률변수의 표본 데이터라고 가정\n",
    "\n",
    "- 데이터를 사용하여 해당 확률변수의 확률분포함수의 모양을 결정\n",
    "\n",
    "- 결정된 확률변수로부터 다음에 생성될 데이터나 데이터 특성을 예측"
   ]
  },
  {
   "cell_type": "code",
   "execution_count": 25,
   "metadata": {},
   "outputs": [],
   "source": [
    "import scipy.stats as stats\n",
    "import sympy"
   ]
  },
  {
   "cell_type": "code",
   "execution_count": 26,
   "metadata": {},
   "outputs": [
    {
     "data": {
      "text/html": [
       "<div>\n",
       "<style scoped>\n",
       "    .dataframe tbody tr th:only-of-type {\n",
       "        vertical-align: middle;\n",
       "    }\n",
       "\n",
       "    .dataframe tbody tr th {\n",
       "        vertical-align: top;\n",
       "    }\n",
       "\n",
       "    .dataframe thead th {\n",
       "        text-align: right;\n",
       "    }\n",
       "</style>\n",
       "<table border=\"1\" class=\"dataframe\">\n",
       "  <thead>\n",
       "    <tr style=\"text-align: right;\">\n",
       "      <th></th>\n",
       "      <th>sex</th>\n",
       "      <th>age</th>\n",
       "      <th>province</th>\n",
       "      <th>infection_case</th>\n",
       "      <th>contact_number</th>\n",
       "      <th>symptom_onset_date</th>\n",
       "      <th>confirmed_date</th>\n",
       "      <th>released_date</th>\n",
       "      <th>deceased_date</th>\n",
       "    </tr>\n",
       "  </thead>\n",
       "  <tbody>\n",
       "    <tr>\n",
       "      <th>0</th>\n",
       "      <td>male</td>\n",
       "      <td>50s</td>\n",
       "      <td>Seoul</td>\n",
       "      <td>overseas inflow</td>\n",
       "      <td>75.0</td>\n",
       "      <td>2020-01-22</td>\n",
       "      <td>2020-01-23</td>\n",
       "      <td>2020-02-05</td>\n",
       "      <td>NaN</td>\n",
       "    </tr>\n",
       "    <tr>\n",
       "      <th>1</th>\n",
       "      <td>male</td>\n",
       "      <td>30s</td>\n",
       "      <td>Seoul</td>\n",
       "      <td>overseas inflow</td>\n",
       "      <td>31.0</td>\n",
       "      <td>NaN</td>\n",
       "      <td>2020-01-30</td>\n",
       "      <td>2020-03-02</td>\n",
       "      <td>NaN</td>\n",
       "    </tr>\n",
       "    <tr>\n",
       "      <th>2</th>\n",
       "      <td>male</td>\n",
       "      <td>50s</td>\n",
       "      <td>Seoul</td>\n",
       "      <td>contact with patient</td>\n",
       "      <td>17.0</td>\n",
       "      <td>NaN</td>\n",
       "      <td>2020-01-30</td>\n",
       "      <td>2020-02-19</td>\n",
       "      <td>NaN</td>\n",
       "    </tr>\n",
       "    <tr>\n",
       "      <th>3</th>\n",
       "      <td>male</td>\n",
       "      <td>20s</td>\n",
       "      <td>Seoul</td>\n",
       "      <td>overseas inflow</td>\n",
       "      <td>9.0</td>\n",
       "      <td>2020-01-26</td>\n",
       "      <td>2020-01-30</td>\n",
       "      <td>2020-02-15</td>\n",
       "      <td>NaN</td>\n",
       "    </tr>\n",
       "    <tr>\n",
       "      <th>4</th>\n",
       "      <td>female</td>\n",
       "      <td>20s</td>\n",
       "      <td>Seoul</td>\n",
       "      <td>contact with patient</td>\n",
       "      <td>2.0</td>\n",
       "      <td>NaN</td>\n",
       "      <td>2020-01-31</td>\n",
       "      <td>2020-02-24</td>\n",
       "      <td>NaN</td>\n",
       "    </tr>\n",
       "    <tr>\n",
       "      <th>...</th>\n",
       "      <td>...</td>\n",
       "      <td>...</td>\n",
       "      <td>...</td>\n",
       "      <td>...</td>\n",
       "      <td>...</td>\n",
       "      <td>...</td>\n",
       "      <td>...</td>\n",
       "      <td>...</td>\n",
       "      <td>...</td>\n",
       "    </tr>\n",
       "    <tr>\n",
       "      <th>3383</th>\n",
       "      <td>female</td>\n",
       "      <td>20s</td>\n",
       "      <td>Jeju-do</td>\n",
       "      <td>overseas inflow</td>\n",
       "      <td>14.0</td>\n",
       "      <td>NaN</td>\n",
       "      <td>2020-03-29</td>\n",
       "      <td>NaN</td>\n",
       "      <td>NaN</td>\n",
       "    </tr>\n",
       "    <tr>\n",
       "      <th>3384</th>\n",
       "      <td>female</td>\n",
       "      <td>20s</td>\n",
       "      <td>Jeju-do</td>\n",
       "      <td>overseas inflow</td>\n",
       "      <td>18.0</td>\n",
       "      <td>NaN</td>\n",
       "      <td>2020-04-03</td>\n",
       "      <td>NaN</td>\n",
       "      <td>NaN</td>\n",
       "    </tr>\n",
       "    <tr>\n",
       "      <th>3385</th>\n",
       "      <td>male</td>\n",
       "      <td>30s</td>\n",
       "      <td>Jeju-do</td>\n",
       "      <td>contact with patient</td>\n",
       "      <td>5.0</td>\n",
       "      <td>NaN</td>\n",
       "      <td>2020-04-03</td>\n",
       "      <td>NaN</td>\n",
       "      <td>NaN</td>\n",
       "    </tr>\n",
       "    <tr>\n",
       "      <th>3386</th>\n",
       "      <td>female</td>\n",
       "      <td>20s</td>\n",
       "      <td>Jeju-do</td>\n",
       "      <td>overseas inflow</td>\n",
       "      <td>9.0</td>\n",
       "      <td>NaN</td>\n",
       "      <td>2020-04-03</td>\n",
       "      <td>NaN</td>\n",
       "      <td>NaN</td>\n",
       "    </tr>\n",
       "    <tr>\n",
       "      <th>3387</th>\n",
       "      <td>female</td>\n",
       "      <td>10s</td>\n",
       "      <td>Jeju-do</td>\n",
       "      <td>overseas inflow</td>\n",
       "      <td>6.0</td>\n",
       "      <td>NaN</td>\n",
       "      <td>2020-04-14</td>\n",
       "      <td>NaN</td>\n",
       "      <td>NaN</td>\n",
       "    </tr>\n",
       "  </tbody>\n",
       "</table>\n",
       "<p>3388 rows × 9 columns</p>\n",
       "</div>"
      ],
      "text/plain": [
       "         sex  age province        infection_case  contact_number  \\\n",
       "0       male  50s    Seoul       overseas inflow            75.0   \n",
       "1       male  30s    Seoul       overseas inflow            31.0   \n",
       "2       male  50s    Seoul  contact with patient            17.0   \n",
       "3       male  20s    Seoul       overseas inflow             9.0   \n",
       "4     female  20s    Seoul  contact with patient             2.0   \n",
       "...      ...  ...      ...                   ...             ...   \n",
       "3383  female  20s  Jeju-do       overseas inflow            14.0   \n",
       "3384  female  20s  Jeju-do       overseas inflow            18.0   \n",
       "3385    male  30s  Jeju-do  contact with patient             5.0   \n",
       "3386  female  20s  Jeju-do       overseas inflow             9.0   \n",
       "3387  female  10s  Jeju-do       overseas inflow             6.0   \n",
       "\n",
       "     symptom_onset_date confirmed_date released_date deceased_date  \n",
       "0            2020-01-22     2020-01-23    2020-02-05           NaN  \n",
       "1                   NaN     2020-01-30    2020-03-02           NaN  \n",
       "2                   NaN     2020-01-30    2020-02-19           NaN  \n",
       "3            2020-01-26     2020-01-30    2020-02-15           NaN  \n",
       "4                   NaN     2020-01-31    2020-02-24           NaN  \n",
       "...                 ...            ...           ...           ...  \n",
       "3383                NaN     2020-03-29           NaN           NaN  \n",
       "3384                NaN     2020-04-03           NaN           NaN  \n",
       "3385                NaN     2020-04-03           NaN           NaN  \n",
       "3386                NaN     2020-04-03           NaN           NaN  \n",
       "3387                NaN     2020-04-14           NaN           NaN  \n",
       "\n",
       "[3388 rows x 9 columns]"
      ]
     },
     "execution_count": 26,
     "metadata": {},
     "output_type": "execute_result"
    }
   ],
   "source": [
    "_p_info = p_info[['sex','age','province','infection_case','contact_number','symptom_onset_date','confirmed_date','released_date','deceased_date']]\n",
    "_p_info"
   ]
  },
  {
   "cell_type": "code",
   "execution_count": 27,
   "metadata": {},
   "outputs": [
    {
     "data": {
      "text/plain": [
       "0                Guro-gu Call Center\n",
       "1                      Dongan Church\n",
       "2              Manmin Central Church\n",
       "3      Eunpyeong St. Mary's Hospital\n",
       "4                   Seongdong-gu APT\n",
       "                   ...              \n",
       "107             contact with patient\n",
       "108                              etc\n",
       "109                  overseas inflow\n",
       "110             contact with patient\n",
       "111                              etc\n",
       "Name: infection_case, Length: 112, dtype: object"
      ]
     },
     "execution_count": 27,
     "metadata": {},
     "output_type": "execute_result"
    }
   ],
   "source": [
    "case.infection_case"
   ]
  },
  {
   "cell_type": "code",
   "execution_count": 28,
   "metadata": {},
   "outputs": [
    {
     "data": {
      "text/html": [
       "<div>\n",
       "<style scoped>\n",
       "    .dataframe tbody tr th:only-of-type {\n",
       "        vertical-align: middle;\n",
       "    }\n",
       "\n",
       "    .dataframe tbody tr th {\n",
       "        vertical-align: top;\n",
       "    }\n",
       "\n",
       "    .dataframe thead th {\n",
       "        text-align: right;\n",
       "    }\n",
       "</style>\n",
       "<table border=\"1\" class=\"dataframe\">\n",
       "  <thead>\n",
       "    <tr style=\"text-align: right;\">\n",
       "      <th></th>\n",
       "      <th>patient_id</th>\n",
       "      <th>global_num</th>\n",
       "      <th>sex</th>\n",
       "      <th>birth_year</th>\n",
       "      <th>age</th>\n",
       "      <th>country</th>\n",
       "      <th>province</th>\n",
       "      <th>city</th>\n",
       "      <th>disease</th>\n",
       "      <th>infection_case</th>\n",
       "      <th>infection_order</th>\n",
       "      <th>infected_by</th>\n",
       "      <th>contact_number</th>\n",
       "      <th>symptom_onset_date</th>\n",
       "      <th>confirmed_date</th>\n",
       "      <th>released_date</th>\n",
       "      <th>deceased_date</th>\n",
       "      <th>state</th>\n",
       "    </tr>\n",
       "  </thead>\n",
       "  <tbody>\n",
       "    <tr>\n",
       "      <th>0</th>\n",
       "      <td>1000000001</td>\n",
       "      <td>2.0</td>\n",
       "      <td>male</td>\n",
       "      <td>1964.0</td>\n",
       "      <td>50s</td>\n",
       "      <td>Korea</td>\n",
       "      <td>Seoul</td>\n",
       "      <td>Gangseo-gu</td>\n",
       "      <td>NaN</td>\n",
       "      <td>overseas inflow</td>\n",
       "      <td>1.0</td>\n",
       "      <td>NaN</td>\n",
       "      <td>75.0</td>\n",
       "      <td>2020-01-22</td>\n",
       "      <td>2020-01-23</td>\n",
       "      <td>2020-02-05</td>\n",
       "      <td>NaN</td>\n",
       "      <td>released</td>\n",
       "    </tr>\n",
       "    <tr>\n",
       "      <th>1</th>\n",
       "      <td>1000000002</td>\n",
       "      <td>5.0</td>\n",
       "      <td>male</td>\n",
       "      <td>1987.0</td>\n",
       "      <td>30s</td>\n",
       "      <td>Korea</td>\n",
       "      <td>Seoul</td>\n",
       "      <td>Jungnang-gu</td>\n",
       "      <td>NaN</td>\n",
       "      <td>overseas inflow</td>\n",
       "      <td>1.0</td>\n",
       "      <td>NaN</td>\n",
       "      <td>31.0</td>\n",
       "      <td>NaN</td>\n",
       "      <td>2020-01-30</td>\n",
       "      <td>2020-03-02</td>\n",
       "      <td>NaN</td>\n",
       "      <td>released</td>\n",
       "    </tr>\n",
       "    <tr>\n",
       "      <th>2</th>\n",
       "      <td>1000000003</td>\n",
       "      <td>6.0</td>\n",
       "      <td>male</td>\n",
       "      <td>1964.0</td>\n",
       "      <td>50s</td>\n",
       "      <td>Korea</td>\n",
       "      <td>Seoul</td>\n",
       "      <td>Jongno-gu</td>\n",
       "      <td>NaN</td>\n",
       "      <td>contact with patient</td>\n",
       "      <td>2.0</td>\n",
       "      <td>2.002000e+09</td>\n",
       "      <td>17.0</td>\n",
       "      <td>NaN</td>\n",
       "      <td>2020-01-30</td>\n",
       "      <td>2020-02-19</td>\n",
       "      <td>NaN</td>\n",
       "      <td>released</td>\n",
       "    </tr>\n",
       "    <tr>\n",
       "      <th>3</th>\n",
       "      <td>1000000004</td>\n",
       "      <td>7.0</td>\n",
       "      <td>male</td>\n",
       "      <td>1991.0</td>\n",
       "      <td>20s</td>\n",
       "      <td>Korea</td>\n",
       "      <td>Seoul</td>\n",
       "      <td>Mapo-gu</td>\n",
       "      <td>NaN</td>\n",
       "      <td>overseas inflow</td>\n",
       "      <td>1.0</td>\n",
       "      <td>NaN</td>\n",
       "      <td>9.0</td>\n",
       "      <td>2020-01-26</td>\n",
       "      <td>2020-01-30</td>\n",
       "      <td>2020-02-15</td>\n",
       "      <td>NaN</td>\n",
       "      <td>released</td>\n",
       "    </tr>\n",
       "    <tr>\n",
       "      <th>4</th>\n",
       "      <td>1000000005</td>\n",
       "      <td>9.0</td>\n",
       "      <td>female</td>\n",
       "      <td>1992.0</td>\n",
       "      <td>20s</td>\n",
       "      <td>Korea</td>\n",
       "      <td>Seoul</td>\n",
       "      <td>Seongbuk-gu</td>\n",
       "      <td>NaN</td>\n",
       "      <td>contact with patient</td>\n",
       "      <td>2.0</td>\n",
       "      <td>1.000000e+09</td>\n",
       "      <td>2.0</td>\n",
       "      <td>NaN</td>\n",
       "      <td>2020-01-31</td>\n",
       "      <td>2020-02-24</td>\n",
       "      <td>NaN</td>\n",
       "      <td>released</td>\n",
       "    </tr>\n",
       "    <tr>\n",
       "      <th>...</th>\n",
       "      <td>...</td>\n",
       "      <td>...</td>\n",
       "      <td>...</td>\n",
       "      <td>...</td>\n",
       "      <td>...</td>\n",
       "      <td>...</td>\n",
       "      <td>...</td>\n",
       "      <td>...</td>\n",
       "      <td>...</td>\n",
       "      <td>...</td>\n",
       "      <td>...</td>\n",
       "      <td>...</td>\n",
       "      <td>...</td>\n",
       "      <td>...</td>\n",
       "      <td>...</td>\n",
       "      <td>...</td>\n",
       "      <td>...</td>\n",
       "      <td>...</td>\n",
       "    </tr>\n",
       "    <tr>\n",
       "      <th>3383</th>\n",
       "      <td>7000000009</td>\n",
       "      <td>9651.0</td>\n",
       "      <td>female</td>\n",
       "      <td>NaN</td>\n",
       "      <td>20s</td>\n",
       "      <td>Korea</td>\n",
       "      <td>Jeju-do</td>\n",
       "      <td>Jeju-do</td>\n",
       "      <td>NaN</td>\n",
       "      <td>overseas inflow</td>\n",
       "      <td>NaN</td>\n",
       "      <td>NaN</td>\n",
       "      <td>14.0</td>\n",
       "      <td>NaN</td>\n",
       "      <td>2020-03-29</td>\n",
       "      <td>NaN</td>\n",
       "      <td>NaN</td>\n",
       "      <td>isolated</td>\n",
       "    </tr>\n",
       "    <tr>\n",
       "      <th>3384</th>\n",
       "      <td>7000000010</td>\n",
       "      <td>NaN</td>\n",
       "      <td>female</td>\n",
       "      <td>NaN</td>\n",
       "      <td>20s</td>\n",
       "      <td>Korea</td>\n",
       "      <td>Jeju-do</td>\n",
       "      <td>Jeju-do</td>\n",
       "      <td>NaN</td>\n",
       "      <td>overseas inflow</td>\n",
       "      <td>NaN</td>\n",
       "      <td>NaN</td>\n",
       "      <td>18.0</td>\n",
       "      <td>NaN</td>\n",
       "      <td>2020-04-03</td>\n",
       "      <td>NaN</td>\n",
       "      <td>NaN</td>\n",
       "      <td>isolated</td>\n",
       "    </tr>\n",
       "    <tr>\n",
       "      <th>3385</th>\n",
       "      <td>7000000011</td>\n",
       "      <td>NaN</td>\n",
       "      <td>male</td>\n",
       "      <td>NaN</td>\n",
       "      <td>30s</td>\n",
       "      <td>Korea</td>\n",
       "      <td>Jeju-do</td>\n",
       "      <td>Jeju-do</td>\n",
       "      <td>NaN</td>\n",
       "      <td>contact with patient</td>\n",
       "      <td>NaN</td>\n",
       "      <td>7.000000e+09</td>\n",
       "      <td>5.0</td>\n",
       "      <td>NaN</td>\n",
       "      <td>2020-04-03</td>\n",
       "      <td>NaN</td>\n",
       "      <td>NaN</td>\n",
       "      <td>isolated</td>\n",
       "    </tr>\n",
       "    <tr>\n",
       "      <th>3386</th>\n",
       "      <td>7000000012</td>\n",
       "      <td>NaN</td>\n",
       "      <td>female</td>\n",
       "      <td>NaN</td>\n",
       "      <td>20s</td>\n",
       "      <td>Korea</td>\n",
       "      <td>Jeju-do</td>\n",
       "      <td>Jeju-do</td>\n",
       "      <td>NaN</td>\n",
       "      <td>overseas inflow</td>\n",
       "      <td>NaN</td>\n",
       "      <td>NaN</td>\n",
       "      <td>9.0</td>\n",
       "      <td>NaN</td>\n",
       "      <td>2020-04-03</td>\n",
       "      <td>NaN</td>\n",
       "      <td>NaN</td>\n",
       "      <td>isolated</td>\n",
       "    </tr>\n",
       "    <tr>\n",
       "      <th>3387</th>\n",
       "      <td>7000000013</td>\n",
       "      <td>NaN</td>\n",
       "      <td>female</td>\n",
       "      <td>NaN</td>\n",
       "      <td>10s</td>\n",
       "      <td>China</td>\n",
       "      <td>Jeju-do</td>\n",
       "      <td>Jeju-do</td>\n",
       "      <td>NaN</td>\n",
       "      <td>overseas inflow</td>\n",
       "      <td>NaN</td>\n",
       "      <td>NaN</td>\n",
       "      <td>6.0</td>\n",
       "      <td>NaN</td>\n",
       "      <td>2020-04-14</td>\n",
       "      <td>NaN</td>\n",
       "      <td>NaN</td>\n",
       "      <td>isolated</td>\n",
       "    </tr>\n",
       "  </tbody>\n",
       "</table>\n",
       "<p>3388 rows × 18 columns</p>\n",
       "</div>"
      ],
      "text/plain": [
       "      patient_id  global_num     sex  birth_year  age country province  \\\n",
       "0     1000000001         2.0    male      1964.0  50s   Korea    Seoul   \n",
       "1     1000000002         5.0    male      1987.0  30s   Korea    Seoul   \n",
       "2     1000000003         6.0    male      1964.0  50s   Korea    Seoul   \n",
       "3     1000000004         7.0    male      1991.0  20s   Korea    Seoul   \n",
       "4     1000000005         9.0  female      1992.0  20s   Korea    Seoul   \n",
       "...          ...         ...     ...         ...  ...     ...      ...   \n",
       "3383  7000000009      9651.0  female         NaN  20s   Korea  Jeju-do   \n",
       "3384  7000000010         NaN  female         NaN  20s   Korea  Jeju-do   \n",
       "3385  7000000011         NaN    male         NaN  30s   Korea  Jeju-do   \n",
       "3386  7000000012         NaN  female         NaN  20s   Korea  Jeju-do   \n",
       "3387  7000000013         NaN  female         NaN  10s   China  Jeju-do   \n",
       "\n",
       "             city disease        infection_case  infection_order  \\\n",
       "0      Gangseo-gu     NaN       overseas inflow              1.0   \n",
       "1     Jungnang-gu     NaN       overseas inflow              1.0   \n",
       "2       Jongno-gu     NaN  contact with patient              2.0   \n",
       "3         Mapo-gu     NaN       overseas inflow              1.0   \n",
       "4     Seongbuk-gu     NaN  contact with patient              2.0   \n",
       "...           ...     ...                   ...              ...   \n",
       "3383      Jeju-do     NaN       overseas inflow              NaN   \n",
       "3384      Jeju-do     NaN       overseas inflow              NaN   \n",
       "3385      Jeju-do     NaN  contact with patient              NaN   \n",
       "3386      Jeju-do     NaN       overseas inflow              NaN   \n",
       "3387      Jeju-do     NaN       overseas inflow              NaN   \n",
       "\n",
       "       infected_by  contact_number symptom_onset_date confirmed_date  \\\n",
       "0              NaN            75.0         2020-01-22     2020-01-23   \n",
       "1              NaN            31.0                NaN     2020-01-30   \n",
       "2     2.002000e+09            17.0                NaN     2020-01-30   \n",
       "3              NaN             9.0         2020-01-26     2020-01-30   \n",
       "4     1.000000e+09             2.0                NaN     2020-01-31   \n",
       "...            ...             ...                ...            ...   \n",
       "3383           NaN            14.0                NaN     2020-03-29   \n",
       "3384           NaN            18.0                NaN     2020-04-03   \n",
       "3385  7.000000e+09             5.0                NaN     2020-04-03   \n",
       "3386           NaN             9.0                NaN     2020-04-03   \n",
       "3387           NaN             6.0                NaN     2020-04-14   \n",
       "\n",
       "     released_date deceased_date     state  \n",
       "0       2020-02-05           NaN  released  \n",
       "1       2020-03-02           NaN  released  \n",
       "2       2020-02-19           NaN  released  \n",
       "3       2020-02-15           NaN  released  \n",
       "4       2020-02-24           NaN  released  \n",
       "...            ...           ...       ...  \n",
       "3383           NaN           NaN  isolated  \n",
       "3384           NaN           NaN  isolated  \n",
       "3385           NaN           NaN  isolated  \n",
       "3386           NaN           NaN  isolated  \n",
       "3387           NaN           NaN  isolated  \n",
       "\n",
       "[3388 rows x 18 columns]"
      ]
     },
     "execution_count": 28,
     "metadata": {},
     "output_type": "execute_result"
    }
   ],
   "source": [
    "p_info"
   ]
  },
  {
   "cell_type": "code",
   "execution_count": 29,
   "metadata": {},
   "outputs": [
    {
     "data": {
      "text/plain": [
       "contact with patient                     968\n",
       "overseas inflow                          604\n",
       "etc                                      572\n",
       "Guro-gu Call Center                      112\n",
       "Shincheonji Church                       107\n",
       "Onchun Church                             33\n",
       "Bonghwa Pureun Nursing Home               31\n",
       "gym facility in Cheonan                   30\n",
       "Ministry of Oceans and Fisheries          28\n",
       "Cheongdo Daenam Hospital                  21\n",
       "Dongan Church                             17\n",
       "Eunpyeong St. Mary's Hospital             16\n",
       "Gyeongsan Seorin Nursing Home             15\n",
       "Seongdong-gu APT                          13\n",
       "Gyeongsan Jeil Silver Town                12\n",
       "Milal Shelter                             11\n",
       "Gyeongsan Cham Joeun Community Center     10\n",
       "Geochang Church                            6\n",
       "gym facility in Sejong                     4\n",
       "Changnyeong Coin Karaoke                   4\n",
       "Suyeong-gu Kindergarten                    3\n",
       "Pilgrimage to Israel                       2\n",
       "River of Grace Community Church            1\n",
       "Name: infection_case, dtype: int64"
      ]
     },
     "execution_count": 29,
     "metadata": {},
     "output_type": "execute_result"
    }
   ],
   "source": [
    "p_info.infection_case.value_counts()"
   ]
  },
  {
   "cell_type": "code",
   "execution_count": 30,
   "metadata": {},
   "outputs": [
    {
     "data": {
      "text/plain": [
       "{'20s': 802,\n",
       " '50s': 597,\n",
       " '40s': 455,\n",
       " '30s': 438,\n",
       " '60s': 401,\n",
       " '70s': 204,\n",
       " '80s': 156,\n",
       " '10s': 150,\n",
       " '0s': 55,\n",
       " '90s': 45,\n",
       " '100s': 1}"
      ]
     },
     "execution_count": 30,
     "metadata": {},
     "output_type": "execute_result"
    }
   ],
   "source": [
    "# 연령대 별 감염 수\n",
    "age_infect_cnt_dict = dict(zip(p_info.age.value_counts().index, p_info.age.value_counts().values)) \n",
    "age_infect_cnt_dict"
   ]
  },
  {
   "cell_type": "code",
   "execution_count": 121,
   "metadata": {},
   "outputs": [
    {
     "data": {
      "text/plain": [
       "{'20s': 0.23671782762691854,\n",
       " '50s': 0.17621015348288074,\n",
       " '40s': 0.13429752066115702,\n",
       " '30s': 0.1292798110979929,\n",
       " '60s': 0.11835891381345927,\n",
       " '70s': 0.0602125147579693,\n",
       " '80s': 0.04604486422668241,\n",
       " '10s': 0.04427390791027155,\n",
       " '0s': 0.016233766233766232,\n",
       " '90s': 0.013282172373081463,\n",
       " '100s': 0.00029515938606847696}"
      ]
     },
     "execution_count": 121,
     "metadata": {},
     "output_type": "execute_result"
    }
   ],
   "source": [
    "# 연령대별 감염률\n",
    "age_infect_rate_dict = {}\n",
    "for k,v in age_infect_cnt_dict.items():\n",
    "    age_infect_rate_dict[k] = v/sum([v for k,v in age_infect_cnt_dict.items()])    \n",
    "\n",
    "age_infect_rate_dict"
   ]
  },
  {
   "cell_type": "code",
   "execution_count": 122,
   "metadata": {},
   "outputs": [
    {
     "data": {
      "text/plain": [
       "<matplotlib.axes._subplots.AxesSubplot at 0x7f2ae86b3410>"
      ]
     },
     "execution_count": 122,
     "metadata": {},
     "output_type": "execute_result"
    },
    {
     "data": {
      "image/png": "[encoded data removed]",
      "text/plain": [
       "<Figure size 432x288 with 1 Axes>"
      ]
     },
     "metadata": {
      "needs_background": "light"
     },
     "output_type": "display_data"
    }
   ],
   "source": [
    "age_infect_cnt_df = pd.DataFrame(list(age_infect_cnt_dict.items()), columns=['age', 'cnt'])\n",
    "age_infect_cnt_df.plot.hist(bins=14)"
   ]
  },
  {
   "cell_type": "code",
   "execution_count": 123,
   "metadata": {},
   "outputs": [
    {
     "data": {
      "text/plain": [
       "<matplotlib.axes._subplots.AxesSubplot at 0x7f2ae86da0d0>"
      ]
     },
     "execution_count": 123,
     "metadata": {},
     "output_type": "execute_result"
    },
    {
     "data": {
      "image/png": "[encoded data removed]",
      "text/plain": [
       "<Figure size 432x288 with 1 Axes>"
      ]
     },
     "metadata": {
      "needs_background": "light"
     },
     "output_type": "display_data"
    }
   ],
   "source": [
    "age_infect_rate_df = pd.DataFrame(list(age_infect_rate_dict.items()), columns=['age', 'rate'])\n",
    "age_infect_rate_df.plot.hist(bins=14)"
   ]
  },
  {
   "cell_type": "code",
   "execution_count": 124,
   "metadata": {},
   "outputs": [
    {
     "data": {
      "text/plain": [
       "<matplotlib.axes._subplots.AxesSubplot at 0x7f2ae85a5b90>"
      ]
     },
     "execution_count": 124,
     "metadata": {},
     "output_type": "execute_result"
    },
    {
     "data": {
      "image/png": "[encoded data removed]",
      "text/plain": [
       "<Figure size 432x288 with 1 Axes>"
      ]
     },
     "metadata": {
      "needs_background": "light"
     },
     "output_type": "display_data"
    }
   ],
   "source": [
    "sns.distplot(age_infect_rate_df['rate'])"
   ]
  },
  {
   "cell_type": "code",
   "execution_count": 125,
   "metadata": {},
   "outputs": [
    {
     "data": {
      "text/plain": [
       "<matplotlib.axes._subplots.AxesSubplot at 0x7f2ae851bb10>"
      ]
     },
     "execution_count": 125,
     "metadata": {},
     "output_type": "execute_result"
    },
    {
     "data": {
      "image/png": "[encoded data removed]",
      "text/plain": [
       "<Figure size 432x288 with 1 Axes>"
      ]
     },
     "metadata": {
      "needs_background": "light"
     },
     "output_type": "display_data"
    }
   ],
   "source": [
    "sns.distplot(p_info['contact_number'])"
   ]
  },
  {
   "cell_type": "code",
   "execution_count": 126,
   "metadata": {},
   "outputs": [
    {
     "data": {
      "text/html": [
       "<div>\n",
       "<style scoped>\n",
       "    .dataframe tbody tr th:only-of-type {\n",
       "        vertical-align: middle;\n",
       "    }\n",
       "\n",
       "    .dataframe tbody tr th {\n",
       "        vertical-align: top;\n",
       "    }\n",
       "\n",
       "    .dataframe thead th {\n",
       "        text-align: right;\n",
       "    }\n",
       "</style>\n",
       "<table border=\"1\" class=\"dataframe\">\n",
       "  <thead>\n",
       "    <tr style=\"text-align: right;\">\n",
       "      <th></th>\n",
       "      <th>patient_id</th>\n",
       "      <th>global_num</th>\n",
       "      <th>sex</th>\n",
       "      <th>birth_year</th>\n",
       "      <th>age</th>\n",
       "      <th>country</th>\n",
       "      <th>province</th>\n",
       "      <th>city</th>\n",
       "      <th>disease</th>\n",
       "      <th>infection_case</th>\n",
       "      <th>infection_order</th>\n",
       "      <th>infected_by</th>\n",
       "      <th>contact_number</th>\n",
       "      <th>symptom_onset_date</th>\n",
       "      <th>confirmed_date</th>\n",
       "      <th>released_date</th>\n",
       "      <th>deceased_date</th>\n",
       "      <th>state</th>\n",
       "      <th>age_rate</th>\n",
       "    </tr>\n",
       "  </thead>\n",
       "  <tbody>\n",
       "    <tr>\n",
       "      <th>0</th>\n",
       "      <td>1000000001</td>\n",
       "      <td>2.0</td>\n",
       "      <td>male</td>\n",
       "      <td>1964.0</td>\n",
       "      <td>50s</td>\n",
       "      <td>Korea</td>\n",
       "      <td>Seoul</td>\n",
       "      <td>Gangseo-gu</td>\n",
       "      <td>NaN</td>\n",
       "      <td>overseas inflow</td>\n",
       "      <td>1.0</td>\n",
       "      <td>NaN</td>\n",
       "      <td>75.0</td>\n",
       "      <td>2020-01-22</td>\n",
       "      <td>2020-01-23</td>\n",
       "      <td>2020-02-05</td>\n",
       "      <td>NaN</td>\n",
       "      <td>released</td>\n",
       "      <td>0.176210</td>\n",
       "    </tr>\n",
       "    <tr>\n",
       "      <th>1</th>\n",
       "      <td>1000000002</td>\n",
       "      <td>5.0</td>\n",
       "      <td>male</td>\n",
       "      <td>1987.0</td>\n",
       "      <td>30s</td>\n",
       "      <td>Korea</td>\n",
       "      <td>Seoul</td>\n",
       "      <td>Jungnang-gu</td>\n",
       "      <td>NaN</td>\n",
       "      <td>overseas inflow</td>\n",
       "      <td>1.0</td>\n",
       "      <td>NaN</td>\n",
       "      <td>31.0</td>\n",
       "      <td>NaN</td>\n",
       "      <td>2020-01-30</td>\n",
       "      <td>2020-03-02</td>\n",
       "      <td>NaN</td>\n",
       "      <td>released</td>\n",
       "      <td>0.129280</td>\n",
       "    </tr>\n",
       "    <tr>\n",
       "      <th>2</th>\n",
       "      <td>1000000003</td>\n",
       "      <td>6.0</td>\n",
       "      <td>male</td>\n",
       "      <td>1964.0</td>\n",
       "      <td>50s</td>\n",
       "      <td>Korea</td>\n",
       "      <td>Seoul</td>\n",
       "      <td>Jongno-gu</td>\n",
       "      <td>NaN</td>\n",
       "      <td>contact with patient</td>\n",
       "      <td>2.0</td>\n",
       "      <td>2.002000e+09</td>\n",
       "      <td>17.0</td>\n",
       "      <td>NaN</td>\n",
       "      <td>2020-01-30</td>\n",
       "      <td>2020-02-19</td>\n",
       "      <td>NaN</td>\n",
       "      <td>released</td>\n",
       "      <td>0.176210</td>\n",
       "    </tr>\n",
       "    <tr>\n",
       "      <th>3</th>\n",
       "      <td>1000000004</td>\n",
       "      <td>7.0</td>\n",
       "      <td>male</td>\n",
       "      <td>1991.0</td>\n",
       "      <td>20s</td>\n",
       "      <td>Korea</td>\n",
       "      <td>Seoul</td>\n",
       "      <td>Mapo-gu</td>\n",
       "      <td>NaN</td>\n",
       "      <td>overseas inflow</td>\n",
       "      <td>1.0</td>\n",
       "      <td>NaN</td>\n",
       "      <td>9.0</td>\n",
       "      <td>2020-01-26</td>\n",
       "      <td>2020-01-30</td>\n",
       "      <td>2020-02-15</td>\n",
       "      <td>NaN</td>\n",
       "      <td>released</td>\n",
       "      <td>0.236718</td>\n",
       "    </tr>\n",
       "    <tr>\n",
       "      <th>4</th>\n",
       "      <td>1000000005</td>\n",
       "      <td>9.0</td>\n",
       "      <td>female</td>\n",
       "      <td>1992.0</td>\n",
       "      <td>20s</td>\n",
       "      <td>Korea</td>\n",
       "      <td>Seoul</td>\n",
       "      <td>Seongbuk-gu</td>\n",
       "      <td>NaN</td>\n",
       "      <td>contact with patient</td>\n",
       "      <td>2.0</td>\n",
       "      <td>1.000000e+09</td>\n",
       "      <td>2.0</td>\n",
       "      <td>NaN</td>\n",
       "      <td>2020-01-31</td>\n",
       "      <td>2020-02-24</td>\n",
       "      <td>NaN</td>\n",
       "      <td>released</td>\n",
       "      <td>0.236718</td>\n",
       "    </tr>\n",
       "    <tr>\n",
       "      <th>...</th>\n",
       "      <td>...</td>\n",
       "      <td>...</td>\n",
       "      <td>...</td>\n",
       "      <td>...</td>\n",
       "      <td>...</td>\n",
       "      <td>...</td>\n",
       "      <td>...</td>\n",
       "      <td>...</td>\n",
       "      <td>...</td>\n",
       "      <td>...</td>\n",
       "      <td>...</td>\n",
       "      <td>...</td>\n",
       "      <td>...</td>\n",
       "      <td>...</td>\n",
       "      <td>...</td>\n",
       "      <td>...</td>\n",
       "      <td>...</td>\n",
       "      <td>...</td>\n",
       "      <td>...</td>\n",
       "    </tr>\n",
       "    <tr>\n",
       "      <th>3383</th>\n",
       "      <td>7000000009</td>\n",
       "      <td>9651.0</td>\n",
       "      <td>female</td>\n",
       "      <td>NaN</td>\n",
       "      <td>20s</td>\n",
       "      <td>Korea</td>\n",
       "      <td>Jeju-do</td>\n",
       "      <td>Jeju-do</td>\n",
       "      <td>NaN</td>\n",
       "      <td>overseas inflow</td>\n",
       "      <td>NaN</td>\n",
       "      <td>NaN</td>\n",
       "      <td>14.0</td>\n",
       "      <td>NaN</td>\n",
       "      <td>2020-03-29</td>\n",
       "      <td>NaN</td>\n",
       "      <td>NaN</td>\n",
       "      <td>isolated</td>\n",
       "      <td>0.236718</td>\n",
       "    </tr>\n",
       "    <tr>\n",
       "      <th>3384</th>\n",
       "      <td>7000000010</td>\n",
       "      <td>NaN</td>\n",
       "      <td>female</td>\n",
       "      <td>NaN</td>\n",
       "      <td>20s</td>\n",
       "      <td>Korea</td>\n",
       "      <td>Jeju-do</td>\n",
       "      <td>Jeju-do</td>\n",
       "      <td>NaN</td>\n",
       "      <td>overseas inflow</td>\n",
       "      <td>NaN</td>\n",
       "      <td>NaN</td>\n",
       "      <td>18.0</td>\n",
       "      <td>NaN</td>\n",
       "      <td>2020-04-03</td>\n",
       "      <td>NaN</td>\n",
       "      <td>NaN</td>\n",
       "      <td>isolated</td>\n",
       "      <td>0.236718</td>\n",
       "    </tr>\n",
       "    <tr>\n",
       "      <th>3385</th>\n",
       "      <td>7000000011</td>\n",
       "      <td>NaN</td>\n",
       "      <td>male</td>\n",
       "      <td>NaN</td>\n",
       "      <td>30s</td>\n",
       "      <td>Korea</td>\n",
       "      <td>Jeju-do</td>\n",
       "      <td>Jeju-do</td>\n",
       "      <td>NaN</td>\n",
       "      <td>contact with patient</td>\n",
       "      <td>NaN</td>\n",
       "      <td>7.000000e+09</td>\n",
       "      <td>5.0</td>\n",
       "      <td>NaN</td>\n",
       "      <td>2020-04-03</td>\n",
       "      <td>NaN</td>\n",
       "      <td>NaN</td>\n",
       "      <td>isolated</td>\n",
       "      <td>0.129280</td>\n",
       "    </tr>\n",
       "    <tr>\n",
       "      <th>3386</th>\n",
       "      <td>7000000012</td>\n",
       "      <td>NaN</td>\n",
       "      <td>female</td>\n",
       "      <td>NaN</td>\n",
       "      <td>20s</td>\n",
       "      <td>Korea</td>\n",
       "      <td>Jeju-do</td>\n",
       "      <td>Jeju-do</td>\n",
       "      <td>NaN</td>\n",
       "      <td>overseas inflow</td>\n",
       "      <td>NaN</td>\n",
       "      <td>NaN</td>\n",
       "      <td>9.0</td>\n",
       "      <td>NaN</td>\n",
       "      <td>2020-04-03</td>\n",
       "      <td>NaN</td>\n",
       "      <td>NaN</td>\n",
       "      <td>isolated</td>\n",
       "      <td>0.236718</td>\n",
       "    </tr>\n",
       "    <tr>\n",
       "      <th>3387</th>\n",
       "      <td>7000000013</td>\n",
       "      <td>NaN</td>\n",
       "      <td>female</td>\n",
       "      <td>NaN</td>\n",
       "      <td>10s</td>\n",
       "      <td>China</td>\n",
       "      <td>Jeju-do</td>\n",
       "      <td>Jeju-do</td>\n",
       "      <td>NaN</td>\n",
       "      <td>overseas inflow</td>\n",
       "      <td>NaN</td>\n",
       "      <td>NaN</td>\n",
       "      <td>6.0</td>\n",
       "      <td>NaN</td>\n",
       "      <td>2020-04-14</td>\n",
       "      <td>NaN</td>\n",
       "      <td>NaN</td>\n",
       "      <td>isolated</td>\n",
       "      <td>0.044274</td>\n",
       "    </tr>\n",
       "  </tbody>\n",
       "</table>\n",
       "<p>3388 rows × 19 columns</p>\n",
       "</div>"
      ],
      "text/plain": [
       "      patient_id  global_num     sex  birth_year  age country province  \\\n",
       "0     1000000001         2.0    male      1964.0  50s   Korea    Seoul   \n",
       "1     1000000002         5.0    male      1987.0  30s   Korea    Seoul   \n",
       "2     1000000003         6.0    male      1964.0  50s   Korea    Seoul   \n",
       "3     1000000004         7.0    male      1991.0  20s   Korea    Seoul   \n",
       "4     1000000005         9.0  female      1992.0  20s   Korea    Seoul   \n",
       "...          ...         ...     ...         ...  ...     ...      ...   \n",
       "3383  7000000009      9651.0  female         NaN  20s   Korea  Jeju-do   \n",
       "3384  7000000010         NaN  female         NaN  20s   Korea  Jeju-do   \n",
       "3385  7000000011         NaN    male         NaN  30s   Korea  Jeju-do   \n",
       "3386  7000000012         NaN  female         NaN  20s   Korea  Jeju-do   \n",
       "3387  7000000013         NaN  female         NaN  10s   China  Jeju-do   \n",
       "\n",
       "             city disease        infection_case  infection_order  \\\n",
       "0      Gangseo-gu     NaN       overseas inflow              1.0   \n",
       "1     Jungnang-gu     NaN       overseas inflow              1.0   \n",
       "2       Jongno-gu     NaN  contact with patient              2.0   \n",
       "3         Mapo-gu     NaN       overseas inflow              1.0   \n",
       "4     Seongbuk-gu     NaN  contact with patient              2.0   \n",
       "...           ...     ...                   ...              ...   \n",
       "3383      Jeju-do     NaN       overseas inflow              NaN   \n",
       "3384      Jeju-do     NaN       overseas inflow              NaN   \n",
       "3385      Jeju-do     NaN  contact with patient              NaN   \n",
       "3386      Jeju-do     NaN       overseas inflow              NaN   \n",
       "3387      Jeju-do     NaN       overseas inflow              NaN   \n",
       "\n",
       "       infected_by  contact_number symptom_onset_date confirmed_date  \\\n",
       "0              NaN            75.0         2020-01-22     2020-01-23   \n",
       "1              NaN            31.0                NaN     2020-01-30   \n",
       "2     2.002000e+09            17.0                NaN     2020-01-30   \n",
       "3              NaN             9.0         2020-01-26     2020-01-30   \n",
       "4     1.000000e+09             2.0                NaN     2020-01-31   \n",
       "...            ...             ...                ...            ...   \n",
       "3383           NaN            14.0                NaN     2020-03-29   \n",
       "3384           NaN            18.0                NaN     2020-04-03   \n",
       "3385  7.000000e+09             5.0                NaN     2020-04-03   \n",
       "3386           NaN             9.0                NaN     2020-04-03   \n",
       "3387           NaN             6.0                NaN     2020-04-14   \n",
       "\n",
       "     released_date deceased_date     state  age_rate  \n",
       "0       2020-02-05           NaN  released  0.176210  \n",
       "1       2020-03-02           NaN  released  0.129280  \n",
       "2       2020-02-19           NaN  released  0.176210  \n",
       "3       2020-02-15           NaN  released  0.236718  \n",
       "4       2020-02-24           NaN  released  0.236718  \n",
       "...            ...           ...       ...       ...  \n",
       "3383           NaN           NaN  isolated  0.236718  \n",
       "3384           NaN           NaN  isolated  0.236718  \n",
       "3385           NaN           NaN  isolated  0.129280  \n",
       "3386           NaN           NaN  isolated  0.236718  \n",
       "3387           NaN           NaN  isolated  0.044274  \n",
       "\n",
       "[3388 rows x 19 columns]"
      ]
     },
     "execution_count": 126,
     "metadata": {},
     "output_type": "execute_result"
    }
   ],
   "source": [
    "p_info['age_rate'] = p_info['age'].map(age_infect_rate_dict)\n",
    "p_info"
   ]
  },
  {
   "cell_type": "code",
   "execution_count": 127,
   "metadata": {},
   "outputs": [
    {
     "data": {
      "text/plain": [
       "<matplotlib.axes._subplots.AxesSubplot at 0x7f2ae8438150>"
      ]
     },
     "execution_count": 127,
     "metadata": {},
     "output_type": "execute_result"
    },
    {
     "data": {
      "image/png": "[encoded data removed]",
      "text/plain": [
       "<Figure size 432x288 with 1 Axes>"
      ]
     },
     "metadata": {
      "needs_background": "light"
     },
     "output_type": "display_data"
    }
   ],
   "source": [
    "# 연령대에 따른 확률분포 도식화?\n",
    "sns.distplot(p_info['age_rate'])"
   ]
  },
  {
   "cell_type": "code",
   "execution_count": 132,
   "metadata": {},
   "outputs": [
    {
     "data": {
      "text/plain": [
       "<matplotlib.axes._subplots.AxesSubplot at 0x7f2ae8373950>"
      ]
     },
     "execution_count": 132,
     "metadata": {},
     "output_type": "execute_result"
    },
    {
     "data": {
      "image/png": "[encoded data removed]",
      "text/plain": [
       "<Figure size 432x288 with 1 Axes>"
      ]
     },
     "metadata": {
      "needs_background": "light"
     },
     "output_type": "display_data"
    }
   ],
   "source": [
    "# 유동 인구수\n",
    "sns.distplot(sf['fp_num'])"
   ]
  },
  {
   "cell_type": "code",
   "execution_count": 134,
   "metadata": {},
   "outputs": [
    {
     "name": "stdout",
     "output_type": "stream",
     "text": [
      "DescribeResult(nobs=432000, minmax=(4480, 127640), mean=27860.034884259258, variance=172208888.73579407, skewness=1.9056691047057897, kurtosis=7.6358041476710845)\n"
     ]
    }
   ],
   "source": [
    "import seaborn as sns\n",
    "print(sp.stats.describe(x))"
   ]
  },
  {
   "cell_type": "code",
   "execution_count": 135,
   "metadata": {},
   "outputs": [
    {
     "name": "stdout",
     "output_type": "stream",
     "text": [
      "count    432000.000000\n",
      "mean      27860.034884\n",
      "std       13122.838441\n",
      "min        4480.000000\n",
      "25%       18940.000000\n",
      "50%       25690.000000\n",
      "75%       34000.000000\n",
      "max      127640.000000\n",
      "Name: fp_num, dtype: float64\n"
     ]
    }
   ],
   "source": [
    "print(x.describe())"
   ]
  },
  {
   "cell_type": "markdown",
   "metadata": {},
   "source": [
    "## 기댓값\n",
    "\n",
    "- 확률밀도함수나 확률분포함수는 확률변수의 전체적인 성격을 설명하는데, 때로 우리는 몇 개의 수치로 확률분포의 성질을 요약하고자 하기도 함\n",
    "- 이러한 성질을 요약하는 수치들 중 하나로 변수의 expectation을 생각해보자\n"
   ]
  },
  {
   "cell_type": "code",
   "execution_count": 136,
   "metadata": {},
   "outputs": [
    {
     "data": {
      "text/plain": [
       "{'20s': 0.23671782762691854,\n",
       " '50s': 0.17621015348288074,\n",
       " '40s': 0.13429752066115702,\n",
       " '30s': 0.1292798110979929,\n",
       " '60s': 0.11835891381345927,\n",
       " '70s': 0.0602125147579693,\n",
       " '80s': 0.04604486422668241,\n",
       " '10s': 0.04427390791027155,\n",
       " '0s': 0.016233766233766232,\n",
       " '90s': 0.013282172373081463,\n",
       " '100s': 0.00029515938606847696}"
      ]
     },
     "execution_count": 136,
     "metadata": {},
     "output_type": "execute_result"
    }
   ],
   "source": [
    "age_infect_rate_dict"
   ]
  },
  {
   "cell_type": "code",
   "execution_count": 137,
   "metadata": {},
   "outputs": [
    {
     "data": {
      "text/plain": [
       "11"
      ]
     },
     "execution_count": 137,
     "metadata": {},
     "output_type": "execute_result"
    }
   ],
   "source": [
    "len(age_infect_rate_dict)"
   ]
  },
  {
   "cell_type": "code",
   "execution_count": 138,
   "metadata": {},
   "outputs": [],
   "source": [
    "# 미성년 (0s or 10s)\n",
    "# 청장년 (20s ~ 50s)\n",
    "# 노년 (60s ~ 100s)"
   ]
  },
  {
   "cell_type": "code",
   "execution_count": 139,
   "metadata": {},
   "outputs": [],
   "source": [
    "# 10명을 임의로 선정했을 때 미성년일 확률?\n",
    "\n",
    "a = list(age_infect_rate_dict.keys())"
   ]
  },
  {
   "cell_type": "code",
   "execution_count": 140,
   "metadata": {},
   "outputs": [
    {
     "data": {
      "text/plain": [
       "55"
      ]
     },
     "execution_count": 140,
     "metadata": {},
     "output_type": "execute_result"
    }
   ],
   "source": [
    "# 임의로 두 명을 뽑았을 때 나올 수 있는 모든 가정의 수\n",
    "# p = itertools.permutations(a, 2)  # 순열\n",
    "\n",
    "b = itertools.combinations(a,2) # 조합\n",
    "len(list(itertools.combinations(a,2)))"
   ]
  },
  {
   "cell_type": "code",
   "execution_count": 143,
   "metadata": {},
   "outputs": [
    {
     "data": {
      "text/plain": [
       "{'20s': 0.23671782762691854,\n",
       " '50s': 0.17621015348288074,\n",
       " '40s': 0.13429752066115702,\n",
       " '30s': 0.1292798110979929,\n",
       " '60s': 0.11835891381345927,\n",
       " '70s': 0.0602125147579693,\n",
       " '80s': 0.04604486422668241,\n",
       " '10s': 0.04427390791027155,\n",
       " '0s': 0.016233766233766232,\n",
       " '90s': 0.013282172373081463,\n",
       " '100s': 0.00029515938606847696}"
      ]
     },
     "execution_count": 143,
     "metadata": {},
     "output_type": "execute_result"
    }
   ],
   "source": [
    "age_infect_rate_dict"
   ]
  },
  {
   "cell_type": "code",
   "execution_count": 144,
   "metadata": {
    "scrolled": false
   },
   "outputs": [
    {
     "data": {
      "text/plain": [
       "121"
      ]
     },
     "execution_count": 144,
     "metadata": {},
     "output_type": "execute_result"
    }
   ],
   "source": [
    "# 두 명을 뽑았을때 미성년이 나오는 모든 경우의 수\n",
    "len(d) + len(a)"
   ]
  },
  {
   "cell_type": "code",
   "execution_count": 145,
   "metadata": {},
   "outputs": [],
   "source": [
    "# debug 용 function\n",
    "def permutations_with_replacement(data, n=2):\n",
    "    _list = [data]*n\n",
    "    return list(itertools.product(*_list))"
   ]
  },
  {
   "cell_type": "code",
   "execution_count": 146,
   "metadata": {},
   "outputs": [],
   "source": [
    "num_of_cases = permutations_with_replacement(a,2)"
   ]
  },
  {
   "cell_type": "code",
   "execution_count": 147,
   "metadata": {},
   "outputs": [
    {
     "data": {
      "text/plain": [
       "[('20s', '20s'),\n",
       " ('20s', '50s'),\n",
       " ('20s', '40s'),\n",
       " ('20s', '30s'),\n",
       " ('20s', '60s'),\n",
       " ('20s', '70s'),\n",
       " ('20s', '80s'),\n",
       " ('20s', '10s'),\n",
       " ('20s', '0s'),\n",
       " ('20s', '90s'),\n",
       " ('20s', '100s'),\n",
       " ('50s', '20s'),\n",
       " ('50s', '50s'),\n",
       " ('50s', '40s'),\n",
       " ('50s', '30s'),\n",
       " ('50s', '60s'),\n",
       " ('50s', '70s'),\n",
       " ('50s', '80s'),\n",
       " ('50s', '10s'),\n",
       " ('50s', '0s'),\n",
       " ('50s', '90s'),\n",
       " ('50s', '100s'),\n",
       " ('40s', '20s'),\n",
       " ('40s', '50s'),\n",
       " ('40s', '40s'),\n",
       " ('40s', '30s'),\n",
       " ('40s', '60s'),\n",
       " ('40s', '70s'),\n",
       " ('40s', '80s'),\n",
       " ('40s', '10s'),\n",
       " ('40s', '0s'),\n",
       " ('40s', '90s'),\n",
       " ('40s', '100s'),\n",
       " ('30s', '20s'),\n",
       " ('30s', '50s'),\n",
       " ('30s', '40s'),\n",
       " ('30s', '30s'),\n",
       " ('30s', '60s'),\n",
       " ('30s', '70s'),\n",
       " ('30s', '80s'),\n",
       " ('30s', '10s'),\n",
       " ('30s', '0s'),\n",
       " ('30s', '90s'),\n",
       " ('30s', '100s'),\n",
       " ('60s', '20s'),\n",
       " ('60s', '50s'),\n",
       " ('60s', '40s'),\n",
       " ('60s', '30s'),\n",
       " ('60s', '60s'),\n",
       " ('60s', '70s'),\n",
       " ('60s', '80s'),\n",
       " ('60s', '10s'),\n",
       " ('60s', '0s'),\n",
       " ('60s', '90s'),\n",
       " ('60s', '100s'),\n",
       " ('70s', '20s'),\n",
       " ('70s', '50s'),\n",
       " ('70s', '40s'),\n",
       " ('70s', '30s'),\n",
       " ('70s', '60s'),\n",
       " ('70s', '70s'),\n",
       " ('70s', '80s'),\n",
       " ('70s', '10s'),\n",
       " ('70s', '0s'),\n",
       " ('70s', '90s'),\n",
       " ('70s', '100s'),\n",
       " ('80s', '20s'),\n",
       " ('80s', '50s'),\n",
       " ('80s', '40s'),\n",
       " ('80s', '30s'),\n",
       " ('80s', '60s'),\n",
       " ('80s', '70s'),\n",
       " ('80s', '80s'),\n",
       " ('80s', '10s'),\n",
       " ('80s', '0s'),\n",
       " ('80s', '90s'),\n",
       " ('80s', '100s'),\n",
       " ('10s', '20s'),\n",
       " ('10s', '50s'),\n",
       " ('10s', '40s'),\n",
       " ('10s', '30s'),\n",
       " ('10s', '60s'),\n",
       " ('10s', '70s'),\n",
       " ('10s', '80s'),\n",
       " ('10s', '10s'),\n",
       " ('10s', '0s'),\n",
       " ('10s', '90s'),\n",
       " ('10s', '100s'),\n",
       " ('0s', '20s'),\n",
       " ('0s', '50s'),\n",
       " ('0s', '40s'),\n",
       " ('0s', '30s'),\n",
       " ('0s', '60s'),\n",
       " ('0s', '70s'),\n",
       " ('0s', '80s'),\n",
       " ('0s', '10s'),\n",
       " ('0s', '0s'),\n",
       " ('0s', '90s'),\n",
       " ('0s', '100s'),\n",
       " ('90s', '20s'),\n",
       " ('90s', '50s'),\n",
       " ('90s', '40s'),\n",
       " ('90s', '30s'),\n",
       " ('90s', '60s'),\n",
       " ('90s', '70s'),\n",
       " ('90s', '80s'),\n",
       " ('90s', '10s'),\n",
       " ('90s', '0s'),\n",
       " ('90s', '90s'),\n",
       " ('90s', '100s'),\n",
       " ('100s', '20s'),\n",
       " ('100s', '50s'),\n",
       " ('100s', '40s'),\n",
       " ('100s', '30s'),\n",
       " ('100s', '60s'),\n",
       " ('100s', '70s'),\n",
       " ('100s', '80s'),\n",
       " ('100s', '10s'),\n",
       " ('100s', '0s'),\n",
       " ('100s', '90s'),\n",
       " ('100s', '100s')]"
      ]
     },
     "execution_count": 147,
     "metadata": {},
     "output_type": "execute_result"
    }
   ],
   "source": [
    "num_of_cases"
   ]
  },
  {
   "cell_type": "code",
   "execution_count": 148,
   "metadata": {},
   "outputs": [
    {
     "data": {
      "text/plain": [
       "121"
      ]
     },
     "execution_count": 148,
     "metadata": {},
     "output_type": "execute_result"
    }
   ],
   "source": [
    "len(num_of_cases)"
   ]
  },
  {
   "cell_type": "code",
   "execution_count": 173,
   "metadata": {},
   "outputs": [
    {
     "name": "stdout",
     "output_type": "stream",
     "text": [
      "Probability of minor :  0.062046004842615014\n",
      "Probability of adult :  0.937953995157385\n"
     ]
    }
   ],
   "source": [
    "# 미성년일 확률\n",
    "prob_of_minor = age_infect_rate_dict['0s']+age_infect_rate_dict['10s']\n",
    "print('Probability of minor : ', prob_of_minor)\n",
    "\n",
    "# 성년일 확률\n",
    "prob_of_adult = 1-(prob_of_minor)\n",
    "print('Probability of adult : ', prob_of_adult)"
   ]
  },
  {
   "cell_type": "markdown",
   "metadata": {},
   "source": [
    "#### 관심있는 변수 -> 두 명을 추출했을 때, 추출한 인원 중 한 명 이상이 미성년일 확률\n",
    "\n",
    "- P(X=0) = 0.003849706716929806\n",
    "    + 임의의 두 명이 모두 미성년인 경우\n",
    "    \n",
    "    \n",
    "- P(X=1) = 0.00002964048361274893\n",
    "    + 임의의 두 명 중 한 명만 미성년인 경우\n",
    "    \n",
    "    \n",
    "- P(X=2) = 0.9923154068079466\n",
    "    + 임의의 두 명이 모두 성인인 경우"
   ]
  },
  {
   "cell_type": "code",
   "execution_count": 175,
   "metadata": {},
   "outputs": [
    {
     "name": "stdout",
     "output_type": "stream",
     "text": [
      "0.003849706716929806\n",
      "2.964048361274893e-05\n",
      "0.9923154068079466\n"
     ]
    }
   ],
   "source": [
    "# P(X=2)\n",
    "x_0 = prob_of_minor**2\n",
    "print(x_0)\n",
    "\n",
    "# P(X=1) \n",
    "x_1 = 2*(x_0**2)\n",
    "print(x_1)\n",
    "\n",
    "# P(X=1) \n",
    "x_2 = (1-x_0)**2\n",
    "print(x_2)"
   ]
  },
  {
   "cell_type": "code",
   "execution_count": 180,
   "metadata": {},
   "outputs": [
    {
     "data": {
      "text/plain": [
       "0.00775869440108511"
      ]
     },
     "execution_count": 180,
     "metadata": {},
     "output_type": "execute_result"
    }
   ],
   "source": [
    "# x(추출한 인원 중 한 명 이상이 미성년)의 기대값\n",
    "# E(X) = x_2*0 + x_1*1 + x_1*1 + x_0*2\n",
    "e = x_2*0 + x_1*1 + x_1*1 + x_0*2\n",
    "e\n",
    "\n",
    "# 이거 맞나??"
   ]
  },
  {
   "cell_type": "code",
   "execution_count": 181,
   "metadata": {},
   "outputs": [
    {
     "data": {
      "text/plain": [
       "1.9846900945831185"
      ]
     },
     "execution_count": 181,
     "metadata": {},
     "output_type": "execute_result"
    }
   ],
   "source": [
    "# x(추출한 인원 중 한 명 이상이 성년)의 기대값\n",
    "# E(X) = x_2*0 + x_1*1 + x_1*1 + x_0*2\n",
    "e2 = x_2*2 + x_1*1 + x_1*1 + x_0*0\n",
    "e2"
   ]
  },
  {
   "cell_type": "code",
   "execution_count": 189,
   "metadata": {},
   "outputs": [],
   "source": [
    "# probabilily mass function\n",
    "rand_var_dict = {'x_0': x_0, 'x_1':x_1,'x_2':x_2}"
   ]
  },
  {
   "cell_type": "code",
   "execution_count": 190,
   "metadata": {},
   "outputs": [
    {
     "data": {
      "text/plain": [
       "{'x_0': 0.003849706716929806,\n",
       " 'x_1': 2.964048361274893e-05,\n",
       " 'x_2': 0.9923154068079466}"
      ]
     },
     "execution_count": 190,
     "metadata": {},
     "output_type": "execute_result"
    }
   ],
   "source": [
    "rand_var_dict"
   ]
  },
  {
   "cell_type": "code",
   "execution_count": 191,
   "metadata": {},
   "outputs": [],
   "source": [
    "_k = [k for k,v in rand_var_dict.items()]\n",
    "_v = [v for k,v in rand_var_dict.items()]"
   ]
  },
  {
   "cell_type": "code",
   "execution_count": 193,
   "metadata": {},
   "outputs": [
    {
     "data": {
      "image/png": "[encoded data removed]",
      "text/plain": [
       "<Figure size 432x288 with 1 Axes>"
      ]
     },
     "metadata": {
      "needs_background": "light"
     },
     "output_type": "display_data"
    }
   ],
   "source": [
    "plt.bar(_k, _v)\n",
    "plt.ylabel(\"Probability\")\n",
    "plt.xlabel(\"Random Variable\")\n",
    "plt.show()\n",
    "plt.close()"
   ]
  },
  {
   "cell_type": "code",
   "execution_count": null,
   "metadata": {},
   "outputs": [],
   "source": []
  }
 ],
 "metadata": {
  "kernelspec": {
   "display_name": "Python 3",
   "language": "python",
   "name": "python3"
  },
  "language_info": {
   "codemirror_mode": {
    "name": "ipython",
    "version": 3
   },
   "file_extension": ".py",
   "mimetype": "text/x-python",
   "name": "python",
   "nbconvert_exporter": "python",
   "pygments_lexer": "ipython3",
   "version": "3.7.6"
  }
 },
 "nbformat": 4,
 "nbformat_minor": 4
}
